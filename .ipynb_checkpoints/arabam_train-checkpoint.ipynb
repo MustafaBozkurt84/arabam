{
 "cells": [
  {
   "cell_type": "code",
   "execution_count": 1,
   "metadata": {},
   "outputs": [],
   "source": [
    "import findspark"
   ]
  },
  {
   "cell_type": "code",
   "execution_count": 2,
   "metadata": {},
   "outputs": [],
   "source": [
    "\n",
    "findspark.init(\"/opt/manual/spark\")"
   ]
  },
  {
   "cell_type": "code",
   "execution_count": 3,
   "metadata": {},
   "outputs": [],
   "source": [
    "\n",
    "from pyspark.sql import SparkSession, functions as F\n",
    "import pandas as pd"
   ]
  },
  {
   "cell_type": "code",
   "execution_count": 6,
   "metadata": {},
   "outputs": [],
   "source": [
    "spark = SparkSession.builder \\\n",
    ".appName(\"arabam_com\") \\\n",
    ".master(\"yarn\") \\\n",
    ".getOrCreate()"
   ]
  },
  {
   "cell_type": "code",
   "execution_count": 51,
   "metadata": {},
   "outputs": [],
   "source": [
    "! hdfs dfs -put ~/Desktop/arabam/arabam.csv /user/train/datasets/"
   ]
  },
  {
   "cell_type": "code",
   "execution_count": 52,
   "metadata": {},
   "outputs": [],
   "source": [
    "df1 = spark.read.format(\"csv\") \\\n",
    ".option(\"header\",True) \\\n",
    ".option(\"inferShema\",True) \\\n",
    ".option(\"sep\",\",\")  \\\n",
    ".load(\"hdfs://localhost:9000/user/train/datasets/arabam.csv\")"
   ]
  },
  {
   "cell_type": "code",
   "execution_count": 53,
   "metadata": {},
   "outputs": [
    {
     "data": {
      "text/html": [
       "<div>\n",
       "<style scoped>\n",
       "    .dataframe tbody tr th:only-of-type {\n",
       "        vertical-align: middle;\n",
       "    }\n",
       "\n",
       "    .dataframe tbody tr th {\n",
       "        vertical-align: top;\n",
       "    }\n",
       "\n",
       "    .dataframe thead th {\n",
       "        text-align: right;\n",
       "    }\n",
       "</style>\n",
       "<table border=\"1\" class=\"dataframe\">\n",
       "  <thead>\n",
       "    <tr style=\"text-align: right;\">\n",
       "      <th></th>\n",
       "      <th>_c0</th>\n",
       "      <th>İlan No:</th>\n",
       "      <th>İlan Tarihi:</th>\n",
       "      <th>Marka:</th>\n",
       "      <th>Seri:</th>\n",
       "      <th>Model:</th>\n",
       "      <th>Yıl:</th>\n",
       "      <th>Yakıt Tipi:</th>\n",
       "      <th>Vites Tipi:</th>\n",
       "      <th>Motor Hacmi:</th>\n",
       "      <th>Motor Gücü:</th>\n",
       "      <th>Kilometre:</th>\n",
       "      <th>car_link:</th>\n",
       "    </tr>\n",
       "  </thead>\n",
       "  <tbody>\n",
       "    <tr>\n",
       "      <th>0</th>\n",
       "      <td>0</td>\n",
       "      <td>16224840</td>\n",
       "      <td>20 Aralık 2020</td>\n",
       "      <td>Volkswagen</td>\n",
       "      <td>Passat</td>\n",
       "      <td>1.6 TDi BlueMotion Highline</td>\n",
       "      <td>2017</td>\n",
       "      <td>Dizel</td>\n",
       "      <td>Yarı Otomatik</td>\n",
       "      <td>1598 cc</td>\n",
       "      <td>120 hp</td>\n",
       "      <td>63.000 km</td>\n",
       "      <td>https://www.arabam.com//ilan/galeriden-satilik...</td>\n",
       "    </tr>\n",
       "    <tr>\n",
       "      <th>1</th>\n",
       "      <td>1</td>\n",
       "      <td>16224785</td>\n",
       "      <td>20 Aralık 2020</td>\n",
       "      <td>BMW</td>\n",
       "      <td>5 Serisi</td>\n",
       "      <td>530xd Gran Turismo Premium</td>\n",
       "      <td>2011</td>\n",
       "      <td>Dizel</td>\n",
       "      <td>Yarı Otomatik</td>\n",
       "      <td>2501 - 3000 cm3</td>\n",
       "      <td>226 - 250 HP</td>\n",
       "      <td>350.000 km</td>\n",
       "      <td>https://www.arabam.com//ilan/galeriden-satilik...</td>\n",
       "    </tr>\n",
       "    <tr>\n",
       "      <th>2</th>\n",
       "      <td>2</td>\n",
       "      <td>15727565</td>\n",
       "      <td>19 Aralık 2020</td>\n",
       "      <td>Renault</td>\n",
       "      <td>Megane</td>\n",
       "      <td>2.0 RXE</td>\n",
       "      <td>1999</td>\n",
       "      <td>LPG &amp; Benzin</td>\n",
       "      <td>Otomatik</td>\n",
       "      <td>1598 cc</td>\n",
       "      <td>107 hp</td>\n",
       "      <td>163.000 km</td>\n",
       "      <td>https://www.arabam.com//ilan/galeriden-satilik...</td>\n",
       "    </tr>\n",
       "    <tr>\n",
       "      <th>3</th>\n",
       "      <td>3</td>\n",
       "      <td>16064703</td>\n",
       "      <td>19 Aralık 2020</td>\n",
       "      <td>Fiat</td>\n",
       "      <td>Egea</td>\n",
       "      <td>1.3 Multijet Urban</td>\n",
       "      <td>2017</td>\n",
       "      <td>Dizel</td>\n",
       "      <td>Düz</td>\n",
       "      <td>1248 cc</td>\n",
       "      <td>95 hp</td>\n",
       "      <td>105.000 km</td>\n",
       "      <td>https://www.arabam.com//ilan/galeriden-satilik...</td>\n",
       "    </tr>\n",
       "    <tr>\n",
       "      <th>4</th>\n",
       "      <td>4</td>\n",
       "      <td>16218391</td>\n",
       "      <td>19 Aralık 2020</td>\n",
       "      <td>Volkswagen</td>\n",
       "      <td>Polo</td>\n",
       "      <td>1.6 TDi Comfortline</td>\n",
       "      <td>2013</td>\n",
       "      <td>Dizel</td>\n",
       "      <td>Yarı Otomatik</td>\n",
       "      <td>1598 cc</td>\n",
       "      <td>90 hp</td>\n",
       "      <td>82.000 km</td>\n",
       "      <td>https://www.arabam.com//ilan/galeriden-satilik...</td>\n",
       "    </tr>\n",
       "    <tr>\n",
       "      <th>5</th>\n",
       "      <td>5</td>\n",
       "      <td>16229694</td>\n",
       "      <td>19 Aralık 2020</td>\n",
       "      <td>Dacia</td>\n",
       "      <td>Sandero</td>\n",
       "      <td>1.5 dCi Stepway</td>\n",
       "      <td>2014</td>\n",
       "      <td>Dizel</td>\n",
       "      <td>Düz</td>\n",
       "      <td>1461 cc</td>\n",
       "      <td>90 hp</td>\n",
       "      <td>54.000 km</td>\n",
       "      <td>https://www.arabam.com//ilan/galeriden-satilik...</td>\n",
       "    </tr>\n",
       "    <tr>\n",
       "      <th>6</th>\n",
       "      <td>6</td>\n",
       "      <td>16229258</td>\n",
       "      <td>19 Aralık 2020</td>\n",
       "      <td>Volkswagen</td>\n",
       "      <td>Passat Variant</td>\n",
       "      <td>1.6 TDi BlueMotion Comfortline</td>\n",
       "      <td>2017</td>\n",
       "      <td>Dizel</td>\n",
       "      <td>Yarı Otomatik</td>\n",
       "      <td>1598 cc</td>\n",
       "      <td>120 hp</td>\n",
       "      <td>105.000 km</td>\n",
       "      <td>https://www.arabam.com//ilan/sahibinden-satili...</td>\n",
       "    </tr>\n",
       "    <tr>\n",
       "      <th>7</th>\n",
       "      <td>7</td>\n",
       "      <td>16228952</td>\n",
       "      <td>19 Aralık 2020</td>\n",
       "      <td>Peugeot</td>\n",
       "      <td>301</td>\n",
       "      <td>1.6 HDi Active</td>\n",
       "      <td>2017</td>\n",
       "      <td>Dizel</td>\n",
       "      <td>Düz</td>\n",
       "      <td>1560 cc</td>\n",
       "      <td>93 hp</td>\n",
       "      <td>93.113 km</td>\n",
       "      <td>https://www.arabam.com//ilan/galeriden-satilik...</td>\n",
       "    </tr>\n",
       "    <tr>\n",
       "      <th>8</th>\n",
       "      <td>8</td>\n",
       "      <td>16227794</td>\n",
       "      <td>19 Aralık 2020</td>\n",
       "      <td>Volkswagen</td>\n",
       "      <td>Passat</td>\n",
       "      <td>1.6 FSi Comfortline</td>\n",
       "      <td>2006</td>\n",
       "      <td>Benzin</td>\n",
       "      <td>Otomatik</td>\n",
       "      <td>1598 cc</td>\n",
       "      <td>115 hp</td>\n",
       "      <td>310 km</td>\n",
       "      <td>https://www.arabam.com//ilan/galeriden-satilik...</td>\n",
       "    </tr>\n",
       "    <tr>\n",
       "      <th>9</th>\n",
       "      <td>9</td>\n",
       "      <td>16227403</td>\n",
       "      <td>19 Aralık 2020</td>\n",
       "      <td>Renault</td>\n",
       "      <td>Megane</td>\n",
       "      <td>1.6 Dynamique</td>\n",
       "      <td>2004</td>\n",
       "      <td>LPG &amp; Benzin</td>\n",
       "      <td>Düz</td>\n",
       "      <td>1598 cc</td>\n",
       "      <td>115 hp</td>\n",
       "      <td>235.000 km</td>\n",
       "      <td>https://www.arabam.com//ilan/galeriden-satilik...</td>\n",
       "    </tr>\n",
       "  </tbody>\n",
       "</table>\n",
       "</div>"
      ],
      "text/plain": [
       "  _c0      İlan No:        İlan Tarihi:          Marka:               Seri:  \\\n",
       "0   0   16224840      20 Aralık 2020      Volkswagen              Passat      \n",
       "1   1   16224785      20 Aralık 2020             BMW            5 Serisi      \n",
       "2   2   15727565      19 Aralık 2020         Renault              Megane      \n",
       "3   3   16064703      19 Aralık 2020            Fiat                Egea      \n",
       "4   4   16218391      19 Aralık 2020      Volkswagen                Polo      \n",
       "5   5   16229694      19 Aralık 2020           Dacia             Sandero      \n",
       "6   6   16229258      19 Aralık 2020      Volkswagen      Passat Variant      \n",
       "7   7   16228952      19 Aralık 2020         Peugeot                 301      \n",
       "8   8   16227794      19 Aralık 2020      Volkswagen              Passat      \n",
       "9   9   16227403      19 Aralık 2020         Renault              Megane      \n",
       "\n",
       "                               Model:      Yıl:       Yakıt Tipi:  \\\n",
       "0      1.6 TDi BlueMotion Highline      2017             Dizel      \n",
       "1       530xd Gran Turismo Premium      2011             Dizel      \n",
       "2                          2.0 RXE      1999      LPG & Benzin      \n",
       "3               1.3 Multijet Urban      2017             Dizel      \n",
       "4              1.6 TDi Comfortline      2013             Dizel      \n",
       "5                  1.5 dCi Stepway      2014             Dizel      \n",
       "6   1.6 TDi BlueMotion Comfortline      2017             Dizel      \n",
       "7                   1.6 HDi Active      2017             Dizel      \n",
       "8              1.6 FSi Comfortline      2006            Benzin      \n",
       "9                    1.6 Dynamique      2004      LPG & Benzin      \n",
       "\n",
       "         Vites Tipi:         Motor Hacmi:       Motor Gücü:      Kilometre:  \\\n",
       "0   Yarı Otomatik              1598 cc            120 hp       63.000 km      \n",
       "1   Yarı Otomatik      2501 - 3000 cm3      226 - 250 HP      350.000 km      \n",
       "2        Otomatik              1598 cc            107 hp      163.000 km      \n",
       "3             Düz              1248 cc             95 hp      105.000 km      \n",
       "4   Yarı Otomatik              1598 cc             90 hp       82.000 km      \n",
       "5             Düz              1461 cc             90 hp       54.000 km      \n",
       "6   Yarı Otomatik              1598 cc            120 hp      105.000 km      \n",
       "7             Düz              1560 cc             93 hp       93.113 km      \n",
       "8        Otomatik              1598 cc            115 hp          310 km      \n",
       "9             Düz              1598 cc            115 hp      235.000 km      \n",
       "\n",
       "                                           car_link:  \n",
       "0  https://www.arabam.com//ilan/galeriden-satilik...  \n",
       "1  https://www.arabam.com//ilan/galeriden-satilik...  \n",
       "2  https://www.arabam.com//ilan/galeriden-satilik...  \n",
       "3  https://www.arabam.com//ilan/galeriden-satilik...  \n",
       "4  https://www.arabam.com//ilan/galeriden-satilik...  \n",
       "5  https://www.arabam.com//ilan/galeriden-satilik...  \n",
       "6  https://www.arabam.com//ilan/sahibinden-satili...  \n",
       "7  https://www.arabam.com//ilan/galeriden-satilik...  \n",
       "8  https://www.arabam.com//ilan/galeriden-satilik...  \n",
       "9  https://www.arabam.com//ilan/galeriden-satilik...  "
      ]
     },
     "execution_count": 53,
     "metadata": {},
     "output_type": "execute_result"
    }
   ],
   "source": [
    "df1.limit(10).toPandas()"
   ]
  },
  {
   "cell_type": "code",
   "execution_count": 54,
   "metadata": {},
   "outputs": [
    {
     "name": "stdout",
     "output_type": "stream",
     "text": [
      "root\n",
      " |-- _c0: string (nullable = true)\n",
      " |-- İlan No:: string (nullable = true)\n",
      " |-- İlan Tarihi:: string (nullable = true)\n",
      " |-- Marka:: string (nullable = true)\n",
      " |-- Seri:: string (nullable = true)\n",
      " |-- Model:: string (nullable = true)\n",
      " |-- Yıl:: string (nullable = true)\n",
      " |-- Yakıt Tipi:: string (nullable = true)\n",
      " |-- Vites Tipi:: string (nullable = true)\n",
      " |-- Motor Hacmi:: string (nullable = true)\n",
      " |-- Motor Gücü:: string (nullable = true)\n",
      " |-- Kilometre:: string (nullable = true)\n",
      " |-- car_link:: string (nullable = true)\n",
      "\n"
     ]
    }
   ],
   "source": [
    "df1.printSchema()"
   ]
  },
  {
   "cell_type": "code",
   "execution_count": 55,
   "metadata": {
    "scrolled": true
   },
   "outputs": [
    {
     "data": {
      "text/plain": [
       "['_c0',\n",
       " 'İlan No:',\n",
       " 'İlan Tarihi:',\n",
       " 'Marka:',\n",
       " 'Seri:',\n",
       " 'Model:',\n",
       " 'Yıl:',\n",
       " 'Yakıt Tipi:',\n",
       " 'Vites Tipi:',\n",
       " 'Motor Hacmi:',\n",
       " 'Motor Gücü:',\n",
       " 'Kilometre:',\n",
       " 'car_link:']"
      ]
     },
     "execution_count": 55,
     "metadata": {},
     "output_type": "execute_result"
    }
   ],
   "source": [
    "df1.columns"
   ]
  },
  {
   "cell_type": "code",
   "execution_count": 56,
   "metadata": {},
   "outputs": [],
   "source": [
    "for col in df1.columns:\n",
    "    df1 = df1.withColumn(col, F.ltrim(F.rtrim(df1[col])))"
   ]
  },
  {
   "cell_type": "code",
   "execution_count": 112,
   "metadata": {},
   "outputs": [],
   "source": [
    "df2 =df1.withColumn(\"motor_hacmi\",F.split('Motor Hacmi:',\"-\")[0]) \\\n",
    ".drop(F.col('Motor Hacmi:')) \n",
    "\n",
    " \n"
   ]
  },
  {
   "cell_type": "code",
   "execution_count": 124,
   "metadata": {},
   "outputs": [],
   "source": [
    "df3 =df2.withColumn(\"motor_hacmi\",F.split(\"motor_hacmi\",\" \")[0]) \\\n",
    ".withColumn(\"motor_gucu\",F.split(\"Motor Gücü:\",\" \")[0]) \\\n",
    ".withColumn(\"kilometre\",F.split(\"Kilometre:\",\" \")[0]) \\\n",
    ".withColumn(\"marka\",F.concat(F.col(\"Marka:\"),F.lit('_'),F.col(\"Seri:\"),F.lit('_'),F.col(\"Model:\"))) \\\n",
    ".drop(F.col(\"Kilometre:\")) \\\n",
    ".drop(F.col(\"Motor Gücü:\")) \\\n",
    ".drop(F.col(\"Marka:\")) \\\n",
    ".drop(F.col(\"Seri:\")) \\\n",
    ".drop(F.col(\"Model:\")) \\\n",
    ".drop(F.col(\"_c0\")) \\\n",
    ".drop(F.col(\"İlan Tarihi:\"))"
   ]
  },
  {
   "cell_type": "code",
   "execution_count": 125,
   "metadata": {},
   "outputs": [
    {
     "data": {
      "text/html": [
       "<div>\n",
       "<style scoped>\n",
       "    .dataframe tbody tr th:only-of-type {\n",
       "        vertical-align: middle;\n",
       "    }\n",
       "\n",
       "    .dataframe tbody tr th {\n",
       "        vertical-align: top;\n",
       "    }\n",
       "\n",
       "    .dataframe thead th {\n",
       "        text-align: right;\n",
       "    }\n",
       "</style>\n",
       "<table border=\"1\" class=\"dataframe\">\n",
       "  <thead>\n",
       "    <tr style=\"text-align: right;\">\n",
       "      <th></th>\n",
       "      <th>İlan No:</th>\n",
       "      <th>Yıl:</th>\n",
       "      <th>Yakıt Tipi:</th>\n",
       "      <th>Vites Tipi:</th>\n",
       "      <th>car_link:</th>\n",
       "      <th>motor_hacmi</th>\n",
       "      <th>motor_gucu</th>\n",
       "      <th>kilometre</th>\n",
       "      <th>marka</th>\n",
       "    </tr>\n",
       "  </thead>\n",
       "  <tbody>\n",
       "    <tr>\n",
       "      <th>0</th>\n",
       "      <td>16224840</td>\n",
       "      <td>2017</td>\n",
       "      <td>Dizel</td>\n",
       "      <td>Yarı Otomatik</td>\n",
       "      <td>https://www.arabam.com//ilan/galeriden-satilik...</td>\n",
       "      <td>1598</td>\n",
       "      <td>120</td>\n",
       "      <td>63.000</td>\n",
       "      <td>Volkswagen_Passat_1.6 TDi BlueMotion Highline</td>\n",
       "    </tr>\n",
       "    <tr>\n",
       "      <th>1</th>\n",
       "      <td>16224785</td>\n",
       "      <td>2011</td>\n",
       "      <td>Dizel</td>\n",
       "      <td>Yarı Otomatik</td>\n",
       "      <td>https://www.arabam.com//ilan/galeriden-satilik...</td>\n",
       "      <td>2501</td>\n",
       "      <td>226</td>\n",
       "      <td>350.000</td>\n",
       "      <td>BMW_5 Serisi_530xd Gran Turismo Premium</td>\n",
       "    </tr>\n",
       "  </tbody>\n",
       "</table>\n",
       "</div>"
      ],
      "text/plain": [
       "   İlan No:  Yıl: Yakıt Tipi:    Vites Tipi:  \\\n",
       "0  16224840  2017       Dizel  Yarı Otomatik   \n",
       "1  16224785  2011       Dizel  Yarı Otomatik   \n",
       "\n",
       "                                           car_link: motor_hacmi motor_gucu  \\\n",
       "0  https://www.arabam.com//ilan/galeriden-satilik...        1598        120   \n",
       "1  https://www.arabam.com//ilan/galeriden-satilik...        2501        226   \n",
       "\n",
       "  kilometre                                          marka  \n",
       "0    63.000  Volkswagen_Passat_1.6 TDi BlueMotion Highline  \n",
       "1   350.000        BMW_5 Serisi_530xd Gran Turismo Premium  "
      ]
     },
     "execution_count": 125,
     "metadata": {},
     "output_type": "execute_result"
    }
   ],
   "source": [
    "df3.limit(2).toPandas()"
   ]
  },
  {
   "cell_type": "code",
   "execution_count": 126,
   "metadata": {},
   "outputs": [
    {
     "name": "stdout",
     "output_type": "stream",
     "text": [
      "root\n",
      " |-- İlan No:: string (nullable = true)\n",
      " |-- Yıl:: string (nullable = true)\n",
      " |-- Yakıt Tipi:: string (nullable = true)\n",
      " |-- Vites Tipi:: string (nullable = true)\n",
      " |-- car_link:: string (nullable = true)\n",
      " |-- motor_hacmi: string (nullable = true)\n",
      " |-- motor_gucu: string (nullable = true)\n",
      " |-- kilometre: string (nullable = true)\n",
      " |-- marka: string (nullable = true)\n",
      "\n"
     ]
    }
   ],
   "source": [
    "df3.printSchema()"
   ]
  },
  {
   "cell_type": "code",
   "execution_count": 127,
   "metadata": {},
   "outputs": [
    {
     "data": {
      "text/plain": [
       "['İlan No:',\n",
       " 'Yıl:',\n",
       " 'Yakıt Tipi:',\n",
       " 'Vites Tipi:',\n",
       " 'car_link:',\n",
       " 'motor_hacmi',\n",
       " 'motor_gucu',\n",
       " 'kilometre',\n",
       " 'marka']"
      ]
     },
     "execution_count": 127,
     "metadata": {},
     "output_type": "execute_result"
    }
   ],
   "source": [
    "df3.columns"
   ]
  },
  {
   "cell_type": "code",
   "execution_count": 224,
   "metadata": {},
   "outputs": [],
   "source": [
    "df4=df3.select(\n",
    "F.col('Yıl:').cast(\"int\"),\n",
    "F.col('Yakıt Tipi:'),\n",
    "F.col('Vites Tipi:'),\n",
    "F.col('motor_hacmi').cast(\"int\"),\n",
    "F.col('motor_gucu').cast(\"int\"),\n",
    "F.col('kilometre').cast(\"int\"),\n",
    "F.col('marka'))"
   ]
  },
  {
   "cell_type": "code",
   "execution_count": 225,
   "metadata": {},
   "outputs": [
    {
     "name": "stdout",
     "output_type": "stream",
     "text": [
      "root\n",
      " |-- Yıl:: integer (nullable = true)\n",
      " |-- Yakıt Tipi:: string (nullable = true)\n",
      " |-- Vites Tipi:: string (nullable = true)\n",
      " |-- motor_hacmi: integer (nullable = true)\n",
      " |-- motor_gucu: integer (nullable = true)\n",
      " |-- kilometre: integer (nullable = true)\n",
      " |-- marka: string (nullable = true)\n",
      "\n"
     ]
    }
   ],
   "source": [
    "df4.printSchema()"
   ]
  },
  {
   "cell_type": "code",
   "execution_count": 226,
   "metadata": {},
   "outputs": [
    {
     "data": {
      "text/html": [
       "<div>\n",
       "<style scoped>\n",
       "    .dataframe tbody tr th:only-of-type {\n",
       "        vertical-align: middle;\n",
       "    }\n",
       "\n",
       "    .dataframe tbody tr th {\n",
       "        vertical-align: top;\n",
       "    }\n",
       "\n",
       "    .dataframe thead th {\n",
       "        text-align: right;\n",
       "    }\n",
       "</style>\n",
       "<table border=\"1\" class=\"dataframe\">\n",
       "  <thead>\n",
       "    <tr style=\"text-align: right;\">\n",
       "      <th></th>\n",
       "      <th>Yıl:</th>\n",
       "      <th>Yakıt Tipi:</th>\n",
       "      <th>Vites Tipi:</th>\n",
       "      <th>motor_hacmi</th>\n",
       "      <th>motor_gucu</th>\n",
       "      <th>kilometre</th>\n",
       "      <th>marka</th>\n",
       "    </tr>\n",
       "  </thead>\n",
       "  <tbody>\n",
       "    <tr>\n",
       "      <th>0</th>\n",
       "      <td>2017</td>\n",
       "      <td>Dizel</td>\n",
       "      <td>Yarı Otomatik</td>\n",
       "      <td>1598</td>\n",
       "      <td>120</td>\n",
       "      <td>63</td>\n",
       "      <td>Volkswagen_Passat_1.6 TDi BlueMotion Highline</td>\n",
       "    </tr>\n",
       "    <tr>\n",
       "      <th>1</th>\n",
       "      <td>2011</td>\n",
       "      <td>Dizel</td>\n",
       "      <td>Yarı Otomatik</td>\n",
       "      <td>2501</td>\n",
       "      <td>226</td>\n",
       "      <td>350</td>\n",
       "      <td>BMW_5 Serisi_530xd Gran Turismo Premium</td>\n",
       "    </tr>\n",
       "    <tr>\n",
       "      <th>2</th>\n",
       "      <td>1999</td>\n",
       "      <td>LPG &amp; Benzin</td>\n",
       "      <td>Otomatik</td>\n",
       "      <td>1598</td>\n",
       "      <td>107</td>\n",
       "      <td>163</td>\n",
       "      <td>Renault_Megane_2.0 RXE</td>\n",
       "    </tr>\n",
       "  </tbody>\n",
       "</table>\n",
       "</div>"
      ],
      "text/plain": [
       "   Yıl:   Yakıt Tipi:    Vites Tipi:  motor_hacmi  motor_gucu  kilometre  \\\n",
       "0  2017         Dizel  Yarı Otomatik         1598         120         63   \n",
       "1  2011         Dizel  Yarı Otomatik         2501         226        350   \n",
       "2  1999  LPG & Benzin       Otomatik         1598         107        163   \n",
       "\n",
       "                                           marka  \n",
       "0  Volkswagen_Passat_1.6 TDi BlueMotion Highline  \n",
       "1        BMW_5 Serisi_530xd Gran Turismo Premium  \n",
       "2                         Renault_Megane_2.0 RXE  "
      ]
     },
     "execution_count": 226,
     "metadata": {},
     "output_type": "execute_result"
    }
   ],
   "source": [
    "df4.limit(3).toPandas()"
   ]
  },
  {
   "cell_type": "code",
   "execution_count": 227,
   "metadata": {},
   "outputs": [
    {
     "name": "stdout",
     "output_type": "stream",
     "text": [
      "Yıl: int type has 1 null values\n",
      "Yakıt Tipi: string type has 1 null values\n",
      "motor_hacmi int type has 13 null values\n",
      "motor_gucu int type has 20 null values\n"
     ]
    }
   ],
   "source": [
    "# Null check\n",
    "for(col_name, col_type) in zip(df4.columns, df4.dtypes):\n",
    "    null_count = df4.filter( (F.col(col_name).isNull()) | (F.col(col_name) == \"\")).count()\n",
    "    if(  null_count > 0 ):\n",
    "        print(\"{} {} type has {} null values\".format(col_name, col_type[1], null_count))"
   ]
  },
  {
   "cell_type": "code",
   "execution_count": 228,
   "metadata": {},
   "outputs": [],
   "source": []
  },
  {
   "cell_type": "code",
   "execution_count": 242,
   "metadata": {},
   "outputs": [],
   "source": [
    "yil_na=df4.filter(F.col(\"Yıl:\").isNull()).select(\"marka\").collect()[0][0]\n"
   ]
  },
  {
   "cell_type": "code",
   "execution_count": 257,
   "metadata": {},
   "outputs": [
    {
     "data": {
      "text/plain": [
       "2015"
      ]
     },
     "execution_count": 257,
     "metadata": {},
     "output_type": "execute_result"
    }
   ],
   "source": [
    "yil_na1=df4.filter(F.col(\"marka\")==yil_na).select(\"Yıl:\",\"marka\").groupBy(\"marka\").avg(\"Yıl:\").collect()[0][1]\n",
    "yil_na1=int(yil_na1)\n",
    "yil_na1"
   ]
  },
  {
   "cell_type": "code",
   "execution_count": 262,
   "metadata": {},
   "outputs": [],
   "source": [
    "df5=df4.na.fill(value=yil_na1,subset=[\"Yıl:\"])"
   ]
  },
  {
   "cell_type": "code",
   "execution_count": 349,
   "metadata": {},
   "outputs": [
    {
     "name": "stdout",
     "output_type": "stream",
     "text": [
      "Yakıt Tipi: string type has 1 null values\n",
      "motor_gucu int type has 7 null values\n"
     ]
    }
   ],
   "source": [
    "for(col_name, col_type) in zip(df6.columns, df6.dtypes):\n",
    "    null_count = df6.filter( (F.col(col_name).isNull()) | (F.col(col_name) == \"\")).count()\n",
    "    if(  null_count > 0 ):\n",
    "        print(\"{} {} type has {} null values\".format(col_name, col_type[1], null_count))"
   ]
  },
  {
   "cell_type": "code",
   "execution_count": 367,
   "metadata": {},
   "outputs": [
    {
     "data": {
      "text/html": [
       "<div>\n",
       "<style scoped>\n",
       "    .dataframe tbody tr th:only-of-type {\n",
       "        vertical-align: middle;\n",
       "    }\n",
       "\n",
       "    .dataframe tbody tr th {\n",
       "        vertical-align: top;\n",
       "    }\n",
       "\n",
       "    .dataframe thead th {\n",
       "        text-align: right;\n",
       "    }\n",
       "</style>\n",
       "<table border=\"1\" class=\"dataframe\">\n",
       "  <thead>\n",
       "    <tr style=\"text-align: right;\">\n",
       "      <th></th>\n",
       "      <th>marka</th>\n",
       "      <th>avg(motor_hacmi)</th>\n",
       "    </tr>\n",
       "  </thead>\n",
       "  <tbody>\n",
       "    <tr>\n",
       "      <th>0</th>\n",
       "      <td>Renault_Megane_1.5 dCi GT-Line</td>\n",
       "      <td>1461.0</td>\n",
       "    </tr>\n",
       "    <tr>\n",
       "      <th>1</th>\n",
       "      <td>Hyundai_i20_1.2 D-CVVT Jump</td>\n",
       "      <td>1248.0</td>\n",
       "    </tr>\n",
       "    <tr>\n",
       "      <th>2</th>\n",
       "      <td>Mercedes - Benz_B_B 150 Prestige</td>\n",
       "      <td>1498.0</td>\n",
       "    </tr>\n",
       "    <tr>\n",
       "      <th>3</th>\n",
       "      <td>Renault_Symbol_1.5 dCi Extreme</td>\n",
       "      <td>1461.0</td>\n",
       "    </tr>\n",
       "    <tr>\n",
       "      <th>4</th>\n",
       "      <td>Mercedes - Benz_E_250 Elit</td>\n",
       "      <td>1991.0</td>\n",
       "    </tr>\n",
       "    <tr>\n",
       "      <th>...</th>\n",
       "      <td>...</td>\n",
       "      <td>...</td>\n",
       "    </tr>\n",
       "    <tr>\n",
       "      <th>563</th>\n",
       "      <td>Mercedes - Benz_C_C 200 BlueTEC Exclusive</td>\n",
       "      <td>1598.0</td>\n",
       "    </tr>\n",
       "    <tr>\n",
       "      <th>564</th>\n",
       "      <td>Volkswagen_Jetta_1.6 Midline</td>\n",
       "      <td>1595.0</td>\n",
       "    </tr>\n",
       "    <tr>\n",
       "      <th>565</th>\n",
       "      <td>Kia_Ceed_1.6 CRDi Motion</td>\n",
       "      <td>1582.0</td>\n",
       "    </tr>\n",
       "    <tr>\n",
       "      <th>566</th>\n",
       "      <td>Seat_Ibiza_1.0 Style</td>\n",
       "      <td>999.0</td>\n",
       "    </tr>\n",
       "    <tr>\n",
       "      <th>567</th>\n",
       "      <td>Hyundai_Accent Blue_1.6 CRDI Mode Plus</td>\n",
       "      <td>1582.0</td>\n",
       "    </tr>\n",
       "  </tbody>\n",
       "</table>\n",
       "<p>568 rows × 2 columns</p>\n",
       "</div>"
      ],
      "text/plain": [
       "                                         marka  avg(motor_hacmi)\n",
       "0               Renault_Megane_1.5 dCi GT-Line            1461.0\n",
       "1                  Hyundai_i20_1.2 D-CVVT Jump            1248.0\n",
       "2             Mercedes - Benz_B_B 150 Prestige            1498.0\n",
       "3               Renault_Symbol_1.5 dCi Extreme            1461.0\n",
       "4                   Mercedes - Benz_E_250 Elit            1991.0\n",
       "..                                         ...               ...\n",
       "563  Mercedes - Benz_C_C 200 BlueTEC Exclusive            1598.0\n",
       "564               Volkswagen_Jetta_1.6 Midline            1595.0\n",
       "565                   Kia_Ceed_1.6 CRDi Motion            1582.0\n",
       "566                       Seat_Ibiza_1.0 Style             999.0\n",
       "567     Hyundai_Accent Blue_1.6 CRDI Mode Plus            1582.0\n",
       "\n",
       "[568 rows x 2 columns]"
      ]
     },
     "execution_count": 367,
     "metadata": {},
     "output_type": "execute_result"
    }
   ],
   "source": [
    "df_na=df5.select(\"motor_hacmi\",\"marka\").groupBy(\"marka\").avg(\"motor_hacmi\").toPandas()\n",
    "\n",
    "df_na"
   ]
  },
  {
   "cell_type": "code",
   "execution_count": 369,
   "metadata": {},
   "outputs": [
    {
     "data": {
      "text/plain": [
       "['Renault_R 19_1.6 Europa RTE',\n",
       " 'Opel_Vectra_2.5 CDX',\n",
       " 'Audi_A3_A3 Sportback 1.6 Ambition',\n",
       " 'Renault_Clio_2.0 Williams',\n",
       " 'Mercedes - Benz_200_D',\n",
       " 'Fiat_Linea_1.3 Multijet Pop',\n",
       " 'Seat_Leon_1.4 TSI Stylance',\n",
       " 'Fiat_Uno_1.4 ie SX',\n",
       " 'Renault_R 12_GTS',\n",
       " 'Hyundai_Accent_1.3 LS',\n",
       " 'Tofaş_Doğan_SLX ie',\n",
       " 'Honda_Civic_1.6 i-VTEC ES',\n",
       " 'Hyundai_i30_1.4 CVVT Team']"
      ]
     },
     "execution_count": 369,
     "metadata": {},
     "output_type": "execute_result"
    }
   ],
   "source": [
    "na_list=df5.filter(F.col(\"motor_hacmi\").isNull()).select(\"marka\").toPandas().loc[:,\"marka\"].to_list()\n",
    "na_list"
   ]
  },
  {
   "cell_type": "code",
   "execution_count": 375,
   "metadata": {},
   "outputs": [
    {
     "data": {
      "text/plain": [
       "{47: 1248.0,\n",
       " 248: nan,\n",
       " 283: 1590.0,\n",
       " 322: 1396.0,\n",
       " 343: 1341.0,\n",
       " 388: nan,\n",
       " 429: nan,\n",
       " 444: nan,\n",
       " 448: 1581.0,\n",
       " 452: nan,\n",
       " 461: nan,\n",
       " 462: nan,\n",
       " 546: nan}"
      ]
     },
     "execution_count": 375,
     "metadata": {},
     "output_type": "execute_result"
    }
   ],
   "source": [
    "na_dict=df_na[df_na[\"marka\"].isin(na_list)][\"avg(motor_hacmi)\"].to_dict()\n",
    "na_dict"
   ]
  },
  {
   "cell_type": "code",
   "execution_count": 378,
   "metadata": {},
   "outputs": [],
   "source": [
    "def nan_value(df5,motor_hacmi):\n",
    "    df_na=df5.select(motor_hacmi,\"marka\").groupBy(\"marka\").avg(motor_hacmi).toPandas()\n",
    "    df_na.columns=[\"marka\",motor_hacmi]\n",
    "    na_list=df5.filter(F.col(motor_hacmi).isNull()).select(\"marka\").toPandas().loc[:,\"marka\",motor_hacmi].to_list()\n",
    "    na_dict=df_na[df_na[\"marka\"].isin(na_list)][motor_hacmi].to_dict()\n",
    "    return na_dict"
   ]
  },
  {
   "cell_type": "code",
   "execution_count": 379,
   "metadata": {},
   "outputs": [
    {
     "data": {
      "text/plain": [
       "{47: 1248.0,\n",
       " 248: nan,\n",
       " 283: 1590.0,\n",
       " 322: 1396.0,\n",
       " 343: 1341.0,\n",
       " 388: nan,\n",
       " 429: nan,\n",
       " 444: nan,\n",
       " 448: 1581.0,\n",
       " 452: nan,\n",
       " 461: nan,\n",
       " 462: nan,\n",
       " 546: nan}"
      ]
     },
     "execution_count": 379,
     "metadata": {},
     "output_type": "execute_result"
    }
   ],
   "source": [
    "nan_value(df6,\"motor_hacmi\")"
   ]
  },
  {
   "cell_type": "code",
   "execution_count": 350,
   "metadata": {},
   "outputs": [],
   "source": [
    "df6.dropna(how=\"any\")"
   ]
  },
  {
   "cell_type": "code",
   "execution_count": 363,
   "metadata": {},
   "outputs": [],
   "source": [
    "\n",
    "categoric_cols = []\n",
    "numeric_cols = []\n",
    "discarted_cols = []\n",
    "label_col = []"
   ]
  },
  {
   "cell_type": "code",
   "execution_count": 364,
   "metadata": {},
   "outputs": [],
   "source": [
    "# column seperation\n",
    "for col_name in df1.dtypes:\n",
    "    if (col_name[0] not in []):\n",
    "        if (col_name[1] == 'string'):\n",
    "            categoric_cols.append(col_name[0])\n",
    "        else: numeric_cols.append(col_name[0])"
   ]
  },
  {
   "cell_type": "code",
   "execution_count": null,
   "metadata": {},
   "outputs": [],
   "source": []
  }
 ],
 "metadata": {
  "kernelspec": {
   "display_name": "Python 3",
   "language": "python",
   "name": "python3"
  },
  "language_info": {
   "codemirror_mode": {
    "name": "ipython",
    "version": 3
   },
   "file_extension": ".py",
   "mimetype": "text/x-python",
   "name": "python",
   "nbconvert_exporter": "python",
   "pygments_lexer": "ipython3",
   "version": "3.6.8"
  }
 },
 "nbformat": 4,
 "nbformat_minor": 4
}
