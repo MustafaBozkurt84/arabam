{
 "cells": [
  {
   "cell_type": "code",
   "execution_count": null,
   "metadata": {
    "jupyter": {
     "outputs_hidden": true
    }
   },
   "outputs": [],
   "source": [
    "import requests\n",
    "from bs4 import BeautifulSoup\n",
    "import pandas as pd\n",
    "from kafka import KafkaProducer\n",
    "import time\n",
    "\n",
    "# Create a producer object\n",
    "# Ip can be different in your case\n",
    "producer = KafkaProducer(bootstrap_servers=['localhost:9092'])\n",
    "def Convert(a):\n",
    "    it = iter(a)\n",
    "    res_dct = dict(zip(it, it))\n",
    "    return res_dct\n",
    "df1=pd.DataFrame(columns=['İlan No:', 'İlan Tarihi:', 'Marka:', 'Seri:', 'Model:', 'Yıl:',\n",
    "       'Yakıt Tipi:', 'Vites Tipi:', 'Motor Hacmi:', 'Motor Gücü:',\n",
    "       'Kilometre:', 'Boya-değişen:', 'Takasa Uygun:', 'Kimden:'])\n",
    "while 1==1:\n",
    "    for page in [1]:\n",
    "          \n",
    "      \n",
    "          url=\"https://www.arabam.com/ikinci-el/otomobil?page=\"+str(page)\n",
    "\n",
    "          r=requests.get(url)\n",
    "          soup=BeautifulSoup(r.content,'html.parser')\n",
    "          table=soup.find(\"table\",attrs={\"class\":\"table listing-table w100 border-grey2\"})\n",
    "          cars=table.find_all(\"a\",attrs={\"class\":\"listing-text-new word-break val-middle color-black2018\"})\n",
    "          for car in cars:\n",
    "            car_link=[]\n",
    "            car_Link=car.get(\"href\")\n",
    "            car_Link=\"https://www.arabam.com/\"+car_Link\n",
    "            car_link.append(car_Link)\n",
    "            #car_r=requests.get(car_Link)\n",
    "            soup = BeautifulSoup(requests.get(car_Link).content, 'html.parser')\n",
    "            table1=soup.find_all(\"span\",attrs={\"class\":\"bli-particle\"})\n",
    "            att=[]\n",
    "\n",
    "            for i in table1:\n",
    "                att.append(i.text)\n",
    "            data=Convert(att)\n",
    "            df=pd.DataFrame.from_dict(data, orient=\"index\").T\n",
    "            df[\"car_link\"]=car_link\n",
    "            df1=pd.concat([df1,df],ignore_index=True,join=\"outer\")\n",
    "\n",
    "    df1=df1.loc[:,['İlan No:', 'İlan Tarihi:', 'Marka:', 'Seri:', 'Model:', 'Yıl:','Yakıt Tipi:', 'Vites Tipi:', 'Motor Hacmi:', 'Motor Gücü:',\"Kilometre:\",'car_link']]\n",
    "    df1.drop_duplicates(subset=['İlan No:'], keep='last',inplace=True)\n",
    "    df1.to_csv('arabam.csv')\n",
    "\n",
    "\n",
    "\n",
    "    # Read csv file and quick overview\n",
    "\n",
    "    \n",
    "    print(df1.head())\n",
    "\n",
    "\n",
    "    # DRop null\n",
    "    df1=df1.dropna()\n",
    "\n",
    "\n",
    "    # Put columns (including key column) to produce in a single columns named value\n",
    "    x = df1.to_string(header=False,\n",
    "                      index=False,\n",
    "                      index_names=False).split('\\n')\n",
    "    vals = [','.join(ele.split()) for ele in x]\n",
    "\n",
    "    df['value'] = vals\n",
    "\n",
    "\n",
    "\n",
    "    # Iterate through dataframe and produce it\n",
    "    for index, row in df.iterrows():\n",
    "        time.sleep(0.1)\n",
    "        producer.send('topic1', key=str(row[0]).encode(), value=row[-1].encode())\n",
    "\n",
    "    # Observe results from three console consumer under group1"
   ]
  },
  {
   "cell_type": "code",
   "execution_count": null,
   "metadata": {},
   "outputs": [],
   "source": []
  }
 ],
 "metadata": {
  "kernelspec": {
   "display_name": "Python 3",
   "language": "python",
   "name": "python3"
  },
  "language_info": {
   "codemirror_mode": {
    "name": "ipython",
    "version": 3
   },
   "file_extension": ".py",
   "mimetype": "text/x-python",
   "name": "python",
   "nbconvert_exporter": "python",
   "pygments_lexer": "ipython3",
   "version": "3.6.8"
  }
 },
 "nbformat": 4,
 "nbformat_minor": 4
}
