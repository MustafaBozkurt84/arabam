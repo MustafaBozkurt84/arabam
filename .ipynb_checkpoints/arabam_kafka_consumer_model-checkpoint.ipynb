{
 "cells": [
  {
   "cell_type": "code",
   "execution_count": null,
   "metadata": {
    "jupyter": {
     "outputs_hidden": true
    }
   },
   "outputs": [],
   "source": [
    "\n",
    "# Import libs\n",
    "from kafka import KafkaConsumer\n",
    "import pandas as pd\n",
    "import numpy as np\n",
    "# Create consumer object\n",
    "# Consume earliest messages,\n",
    "# If there is no new message in 10 secondsstop consuming.\n",
    "consumer = KafkaConsumer('topic1', # topic\n",
    "                        group_id='group1',\n",
    "                         # consume earliest available messages, for latest 'latest'\n",
    "                         auto_offset_reset='earliest',\n",
    "                         # don't commit offsets\n",
    "                         enable_auto_commit=False,\n",
    "                         # stop iteration if no message after 10 secs\n",
    "                         consumer_timeout_ms=100000000,\n",
    "                         # kafka servers and port\n",
    "                         bootstrap_servers=['localhost:9092'])\n",
    "\n",
    "for message in consumer:\n",
    "    # message value and key are raw bytes -- decode if necessary!\n",
    "    # e.g., for unicode: `message.value.decode('utf-8')`\n",
    "    print (\"%s:%d:%d: key=%s value=%s\" % (message.topic, message.partition,\n",
    "                                          message.offset, message.key,\n",
    "                                          message.value.decode('utf-8')))\n",
    "    \n"
   ]
  },
  {
   "cell_type": "code",
   "execution_count": null,
   "metadata": {},
   "outputs": [],
   "source": []
  }
 ],
 "metadata": {
  "kernelspec": {
   "display_name": "Python 3",
   "language": "python",
   "name": "python3"
  },
  "language_info": {
   "codemirror_mode": {
    "name": "ipython",
    "version": 3
   },
   "file_extension": ".py",
   "mimetype": "text/x-python",
   "name": "python",
   "nbconvert_exporter": "python",
   "pygments_lexer": "ipython3",
   "version": "3.6.8"
  }
 },
 "nbformat": 4,
 "nbformat_minor": 4
}
