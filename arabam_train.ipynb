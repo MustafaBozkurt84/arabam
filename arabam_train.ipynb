{
 "cells": [
  {
   "cell_type": "code",
   "execution_count": 1,
   "metadata": {},
   "outputs": [],
   "source": [
    "import findspark"
   ]
  },
  {
   "cell_type": "code",
   "execution_count": 2,
   "metadata": {},
   "outputs": [],
   "source": [
    "\n",
    "findspark.init(\"/opt/manual/spark\")"
   ]
  },
  {
   "cell_type": "code",
   "execution_count": 3,
   "metadata": {},
   "outputs": [],
   "source": [
    "\n",
    "from pyspark.sql import SparkSession, functions as F\n",
    "import pandas as pd"
   ]
  },
  {
   "cell_type": "code",
   "execution_count": 4,
   "metadata": {},
   "outputs": [],
   "source": [
    "spark = SparkSession.builder \\\n",
    ".appName(\"arabam_com\") \\\n",
    ".master(\"yarn\") \\\n",
    ".getOrCreate()"
   ]
  },
  {
   "cell_type": "code",
   "execution_count": 5,
   "metadata": {},
   "outputs": [
    {
     "name": "stdout",
     "output_type": "stream",
     "text": [
      "Deleted /user/train/datasets/arabam.csv\r\n"
     ]
    }
   ],
   "source": [
    "! hdfs dfs -rm /user/train/datasets/arabam.csv"
   ]
  },
  {
   "cell_type": "code",
   "execution_count": 6,
   "metadata": {},
   "outputs": [],
   "source": [
    "! hdfs dfs -put ~/Desktop/arabam/arabam.csv /user/train/datasets/"
   ]
  },
  {
   "cell_type": "code",
   "execution_count": 7,
   "metadata": {},
   "outputs": [],
   "source": [
    "df1 = spark.read.format(\"csv\") \\\n",
    ".option(\"header\",True) \\\n",
    ".option(\"inferShema\",True) \\\n",
    ".option(\"sep\",\",\")  \\\n",
    ".load(\"hdfs://localhost:9000/user/train/datasets/arabam.csv\")"
   ]
  },
  {
   "cell_type": "code",
   "execution_count": 8,
   "metadata": {},
   "outputs": [
    {
     "data": {
      "text/html": [
       "<div>\n",
       "<style scoped>\n",
       "    .dataframe tbody tr th:only-of-type {\n",
       "        vertical-align: middle;\n",
       "    }\n",
       "\n",
       "    .dataframe tbody tr th {\n",
       "        vertical-align: top;\n",
       "    }\n",
       "\n",
       "    .dataframe thead th {\n",
       "        text-align: right;\n",
       "    }\n",
       "</style>\n",
       "<table border=\"1\" class=\"dataframe\">\n",
       "  <thead>\n",
       "    <tr style=\"text-align: right;\">\n",
       "      <th></th>\n",
       "      <th>_c0</th>\n",
       "      <th>İlan No:</th>\n",
       "      <th>İlan Tarihi:</th>\n",
       "      <th>Marka:</th>\n",
       "      <th>Seri:</th>\n",
       "      <th>Model:</th>\n",
       "      <th>Yıl:</th>\n",
       "      <th>Yakıt Tipi:</th>\n",
       "      <th>Vites Tipi:</th>\n",
       "      <th>Motor Hacmi:</th>\n",
       "      <th>Motor Gücü:</th>\n",
       "      <th>Kilometre:</th>\n",
       "      <th>car_link:</th>\n",
       "      <th>price</th>\n",
       "    </tr>\n",
       "  </thead>\n",
       "  <tbody>\n",
       "    <tr>\n",
       "      <th>0</th>\n",
       "      <td>0</td>\n",
       "      <td>16251517</td>\n",
       "      <td>23 Aralık 2020</td>\n",
       "      <td>Volkswagen</td>\n",
       "      <td>Passat Variant</td>\n",
       "      <td>1.6 TDi BlueMotion Comfortline</td>\n",
       "      <td>2012</td>\n",
       "      <td>Dizel</td>\n",
       "      <td>Yarı Otomatik</td>\n",
       "      <td>1598 cc</td>\n",
       "      <td>105 hp</td>\n",
       "      <td>70.000 km</td>\n",
       "      <td>https://www.arabam.com//ilan/sahibinden-satili...</td>\n",
       "      <td>200.000 TL</td>\n",
       "    </tr>\n",
       "    <tr>\n",
       "      <th>1</th>\n",
       "      <td>1</td>\n",
       "      <td>15943402</td>\n",
       "      <td>22 Aralık 2020</td>\n",
       "      <td>Volkswagen</td>\n",
       "      <td>Polo</td>\n",
       "      <td>1.4 Comfortline</td>\n",
       "      <td>2013</td>\n",
       "      <td>LPG &amp; Benzin</td>\n",
       "      <td>Düz</td>\n",
       "      <td>1390 cc</td>\n",
       "      <td>85 hp</td>\n",
       "      <td>127.000 km</td>\n",
       "      <td>https://www.arabam.com//ilan/galeriden-satilik...</td>\n",
       "      <td>122.500 TL</td>\n",
       "    </tr>\n",
       "    <tr>\n",
       "      <th>2</th>\n",
       "      <td>2</td>\n",
       "      <td>15788492</td>\n",
       "      <td>22 Aralık 2020</td>\n",
       "      <td>Chevrolet</td>\n",
       "      <td>Cruze</td>\n",
       "      <td>1.6 LS</td>\n",
       "      <td>2009</td>\n",
       "      <td>LPG &amp; Benzin</td>\n",
       "      <td>Düz</td>\n",
       "      <td>1598 cc</td>\n",
       "      <td>113 hp</td>\n",
       "      <td>226.000 km</td>\n",
       "      <td>https://www.arabam.com//ilan/galeriden-satilik...</td>\n",
       "      <td>85.000 TL</td>\n",
       "    </tr>\n",
       "    <tr>\n",
       "      <th>3</th>\n",
       "      <td>3</td>\n",
       "      <td>16250683</td>\n",
       "      <td>22 Aralık 2020</td>\n",
       "      <td>Renault</td>\n",
       "      <td>Megane</td>\n",
       "      <td>1.5 dCi Touch</td>\n",
       "      <td>2020</td>\n",
       "      <td>Dizel</td>\n",
       "      <td>Yarı Otomatik</td>\n",
       "      <td>1461 cc</td>\n",
       "      <td>115 hp</td>\n",
       "      <td>0 km</td>\n",
       "      <td>https://www.arabam.com//ilan/galeriden-satilik...</td>\n",
       "      <td>277.000 TL</td>\n",
       "    </tr>\n",
       "    <tr>\n",
       "      <th>4</th>\n",
       "      <td>4</td>\n",
       "      <td>16250505</td>\n",
       "      <td>22 Aralık 2020</td>\n",
       "      <td>Volkswagen</td>\n",
       "      <td>VW CC</td>\n",
       "      <td>1.4 TSi</td>\n",
       "      <td>2013</td>\n",
       "      <td>Benzin</td>\n",
       "      <td>Yarı Otomatik</td>\n",
       "      <td>1390 cc</td>\n",
       "      <td>160 hp</td>\n",
       "      <td>49.000 km</td>\n",
       "      <td>https://www.arabam.com//ilan/galeriden-satilik...</td>\n",
       "      <td>192.500 TL</td>\n",
       "    </tr>\n",
       "    <tr>\n",
       "      <th>5</th>\n",
       "      <td>5</td>\n",
       "      <td>15793297</td>\n",
       "      <td>22 Aralık 2020</td>\n",
       "      <td>Renault</td>\n",
       "      <td>Clio</td>\n",
       "      <td>1.5 dCi Touch</td>\n",
       "      <td>2017</td>\n",
       "      <td>Dizel</td>\n",
       "      <td>Yarı Otomatik</td>\n",
       "      <td>1461 cc</td>\n",
       "      <td>90 hp</td>\n",
       "      <td>80.000 km</td>\n",
       "      <td>https://www.arabam.com//ilan/galeriden-satilik...</td>\n",
       "      <td>154.900 TL</td>\n",
       "    </tr>\n",
       "    <tr>\n",
       "      <th>6</th>\n",
       "      <td>6</td>\n",
       "      <td>16249278</td>\n",
       "      <td>22 Aralık 2020</td>\n",
       "      <td>Fiat</td>\n",
       "      <td>Linea</td>\n",
       "      <td>1.3 Multijet Active Plus</td>\n",
       "      <td>2011</td>\n",
       "      <td>Dizel</td>\n",
       "      <td>Düz</td>\n",
       "      <td>1248 cc</td>\n",
       "      <td>90 hp</td>\n",
       "      <td>109.900 km</td>\n",
       "      <td>https://www.arabam.com//ilan/sahibinden-satili...</td>\n",
       "      <td>85.000 TL</td>\n",
       "    </tr>\n",
       "    <tr>\n",
       "      <th>7</th>\n",
       "      <td>7</td>\n",
       "      <td>16248951</td>\n",
       "      <td>22 Aralık 2020</td>\n",
       "      <td>Seat</td>\n",
       "      <td>Ibiza</td>\n",
       "      <td>1.0 EcoTSI Style</td>\n",
       "      <td>2017</td>\n",
       "      <td>Benzin</td>\n",
       "      <td>Düz</td>\n",
       "      <td>999 cc</td>\n",
       "      <td>95 hp</td>\n",
       "      <td>37.500 km</td>\n",
       "      <td>https://www.arabam.com//ilan/sahibinden-satili...</td>\n",
       "      <td>155.000 TL</td>\n",
       "    </tr>\n",
       "    <tr>\n",
       "      <th>8</th>\n",
       "      <td>8</td>\n",
       "      <td>15293099</td>\n",
       "      <td>22 Aralık 2020</td>\n",
       "      <td>Volkswagen</td>\n",
       "      <td>Passat</td>\n",
       "      <td>1.6 TDi BlueMotion Highline</td>\n",
       "      <td>2015</td>\n",
       "      <td>Dizel</td>\n",
       "      <td>Yarı Otomatik</td>\n",
       "      <td>1598 cc</td>\n",
       "      <td>120 hp</td>\n",
       "      <td>113.000 km</td>\n",
       "      <td>https://www.arabam.com//ilan/galeriden-satilik...</td>\n",
       "      <td>365.000 TL</td>\n",
       "    </tr>\n",
       "    <tr>\n",
       "      <th>9</th>\n",
       "      <td>9</td>\n",
       "      <td>16097555</td>\n",
       "      <td>22 Aralık 2020</td>\n",
       "      <td>Volkswagen</td>\n",
       "      <td>Jetta</td>\n",
       "      <td>1.6 TDi Comfortline</td>\n",
       "      <td>2011</td>\n",
       "      <td>Dizel</td>\n",
       "      <td>Yarı Otomatik</td>\n",
       "      <td>1598 cc</td>\n",
       "      <td>105 hp</td>\n",
       "      <td>188.000 km</td>\n",
       "      <td>https://www.arabam.com//ilan/galeriden-satilik...</td>\n",
       "      <td>151.500 TL</td>\n",
       "    </tr>\n",
       "  </tbody>\n",
       "</table>\n",
       "</div>"
      ],
      "text/plain": [
       "  _c0      İlan No:        İlan Tarihi:          Marka:               Seri:  \\\n",
       "0   0   16251517      23 Aralık 2020      Volkswagen      Passat Variant      \n",
       "1   1   15943402      22 Aralık 2020      Volkswagen                Polo      \n",
       "2   2   15788492      22 Aralık 2020       Chevrolet               Cruze      \n",
       "3   3   16250683      22 Aralık 2020         Renault              Megane      \n",
       "4   4   16250505      22 Aralık 2020      Volkswagen               VW CC      \n",
       "5   5   15793297      22 Aralık 2020         Renault                Clio      \n",
       "6   6   16249278      22 Aralık 2020            Fiat               Linea      \n",
       "7   7   16248951      22 Aralık 2020            Seat               Ibiza      \n",
       "8   8   15293099      22 Aralık 2020      Volkswagen              Passat      \n",
       "9   9   16097555      22 Aralık 2020      Volkswagen               Jetta      \n",
       "\n",
       "                               Model:      Yıl:       Yakıt Tipi:  \\\n",
       "0   1.6 TDi BlueMotion Comfortline      2012             Dizel      \n",
       "1                  1.4 Comfortline      2013      LPG & Benzin      \n",
       "2                           1.6 LS      2009      LPG & Benzin      \n",
       "3                    1.5 dCi Touch      2020             Dizel      \n",
       "4                          1.4 TSi      2013            Benzin      \n",
       "5                    1.5 dCi Touch      2017             Dizel      \n",
       "6         1.3 Multijet Active Plus      2011             Dizel      \n",
       "7                 1.0 EcoTSI Style      2017            Benzin      \n",
       "8      1.6 TDi BlueMotion Highline      2015             Dizel      \n",
       "9              1.6 TDi Comfortline      2011             Dizel      \n",
       "\n",
       "         Vites Tipi: Motor Hacmi: Motor Gücü:      Kilometre:  \\\n",
       "0   Yarı Otomatik      1598 cc      105 hp       70.000 km      \n",
       "1             Düz      1390 cc       85 hp      127.000 km      \n",
       "2             Düz      1598 cc      113 hp      226.000 km      \n",
       "3   Yarı Otomatik      1461 cc      115 hp            0 km      \n",
       "4   Yarı Otomatik      1390 cc      160 hp       49.000 km      \n",
       "5   Yarı Otomatik      1461 cc       90 hp       80.000 km      \n",
       "6             Düz      1248 cc       90 hp      109.900 km      \n",
       "7             Düz       999 cc       95 hp       37.500 km      \n",
       "8   Yarı Otomatik      1598 cc      120 hp      113.000 km      \n",
       "9   Yarı Otomatik      1598 cc      105 hp      188.000 km      \n",
       "\n",
       "                                           car_link:           price  \n",
       "0  https://www.arabam.com//ilan/sahibinden-satili...    200.000 TL    \n",
       "1  https://www.arabam.com//ilan/galeriden-satilik...    122.500 TL    \n",
       "2  https://www.arabam.com//ilan/galeriden-satilik...     85.000 TL    \n",
       "3  https://www.arabam.com//ilan/galeriden-satilik...    277.000 TL    \n",
       "4  https://www.arabam.com//ilan/galeriden-satilik...    192.500 TL    \n",
       "5  https://www.arabam.com//ilan/galeriden-satilik...    154.900 TL    \n",
       "6  https://www.arabam.com//ilan/sahibinden-satili...     85.000 TL    \n",
       "7  https://www.arabam.com//ilan/sahibinden-satili...    155.000 TL    \n",
       "8  https://www.arabam.com//ilan/galeriden-satilik...    365.000 TL    \n",
       "9  https://www.arabam.com//ilan/galeriden-satilik...    151.500 TL    "
      ]
     },
     "execution_count": 8,
     "metadata": {},
     "output_type": "execute_result"
    }
   ],
   "source": [
    "df1.limit(10).toPandas()"
   ]
  },
  {
   "cell_type": "code",
   "execution_count": 9,
   "metadata": {},
   "outputs": [
    {
     "name": "stdout",
     "output_type": "stream",
     "text": [
      "root\n",
      " |-- _c0: string (nullable = true)\n",
      " |-- İlan No:: string (nullable = true)\n",
      " |-- İlan Tarihi:: string (nullable = true)\n",
      " |-- Marka:: string (nullable = true)\n",
      " |-- Seri:: string (nullable = true)\n",
      " |-- Model:: string (nullable = true)\n",
      " |-- Yıl:: string (nullable = true)\n",
      " |-- Yakıt Tipi:: string (nullable = true)\n",
      " |-- Vites Tipi:: string (nullable = true)\n",
      " |-- Motor Hacmi:: string (nullable = true)\n",
      " |-- Motor Gücü:: string (nullable = true)\n",
      " |-- Kilometre:: string (nullable = true)\n",
      " |-- car_link:: string (nullable = true)\n",
      " |-- price: string (nullable = true)\n",
      "\n"
     ]
    }
   ],
   "source": [
    "df1.printSchema()"
   ]
  },
  {
   "cell_type": "code",
   "execution_count": 10,
   "metadata": {
    "scrolled": true
   },
   "outputs": [
    {
     "data": {
      "text/plain": [
       "['_c0',\n",
       " 'İlan No:',\n",
       " 'İlan Tarihi:',\n",
       " 'Marka:',\n",
       " 'Seri:',\n",
       " 'Model:',\n",
       " 'Yıl:',\n",
       " 'Yakıt Tipi:',\n",
       " 'Vites Tipi:',\n",
       " 'Motor Hacmi:',\n",
       " 'Motor Gücü:',\n",
       " 'Kilometre:',\n",
       " 'car_link:',\n",
       " 'price']"
      ]
     },
     "execution_count": 10,
     "metadata": {},
     "output_type": "execute_result"
    }
   ],
   "source": [
    "df1.columns"
   ]
  },
  {
   "cell_type": "code",
   "execution_count": 11,
   "metadata": {},
   "outputs": [],
   "source": [
    "for col in df1.columns:\n",
    "    df1 = df1.withColumn(col, F.ltrim(F.rtrim(df1[col])))"
   ]
  },
  {
   "cell_type": "code",
   "execution_count": 142,
   "metadata": {},
   "outputs": [],
   "source": [
    "df2 =df1.withColumn(\"motor_hacmi\",F.split('Motor Hacmi:',\"-\")[0]) \\\n",
    ".withColumnn(\"price\",F.split(\"price\",\" \")[0])\n",
    ".withColumn(\"Kilometre:\",F.split(\"Kilometre:\",\" \")[0]) \\\n",
    ".drop(F.col('Motor Hacmi:')) \n",
    "\n",
    " \n"
   ]
  },
  {
   "cell_type": "code",
   "execution_count": 148,
   "metadata": {},
   "outputs": [],
   "source": [
    "df3 =df2.withColumn(\"motor_hacmi\",F.split(\"motor_hacmi\",\" \")[0]) \\\n",
    ".withColumn(\"motor_gucu\",F.split(\"Motor Gücü:\",\" \")[0]) \\\n",
    ".withColumn(\"kilometre\",F.split(\"Kilometre:\",\".\")[0][1]) \\\n",
    ".withColumn(\"marka\",F.concat(F.col(\"Marka:\"),F.lit('_'),F.col(\"Seri:\"))) \\\n",
    ".drop(F.col(\"Kilometre:\")) \\\n",
    ".drop(F.col(\"Motor Gücü:\")) \\\n",
    ".drop(F.col(\"Marka:\")) \\\n",
    ".drop(F.col(\"Seri:\")) \\\n",
    ".drop(F.col(\"_c0\")) \\\n",
    ".drop(F.col(\"İlan Tarihi:\"))"
   ]
  },
  {
   "cell_type": "code",
   "execution_count": 149,
   "metadata": {},
   "outputs": [
    {
     "data": {
      "text/html": [
       "<div>\n",
       "<style scoped>\n",
       "    .dataframe tbody tr th:only-of-type {\n",
       "        vertical-align: middle;\n",
       "    }\n",
       "\n",
       "    .dataframe tbody tr th {\n",
       "        vertical-align: top;\n",
       "    }\n",
       "\n",
       "    .dataframe thead th {\n",
       "        text-align: right;\n",
       "    }\n",
       "</style>\n",
       "<table border=\"1\" class=\"dataframe\">\n",
       "  <thead>\n",
       "    <tr style=\"text-align: right;\">\n",
       "      <th></th>\n",
       "      <th>İlan No:</th>\n",
       "      <th>Model:</th>\n",
       "      <th>Yıl:</th>\n",
       "      <th>Yakıt Tipi:</th>\n",
       "      <th>Vites Tipi:</th>\n",
       "      <th>car_link:</th>\n",
       "      <th>motor_hacmi</th>\n",
       "      <th>motor_gucu</th>\n",
       "      <th>kilometre</th>\n",
       "      <th>marka</th>\n",
       "    </tr>\n",
       "  </thead>\n",
       "  <tbody>\n",
       "    <tr>\n",
       "      <th>0</th>\n",
       "      <td>16224840</td>\n",
       "      <td>1.6 TDi BlueMotion Highline</td>\n",
       "      <td>2017</td>\n",
       "      <td>Dizel</td>\n",
       "      <td>Yarı Otomatik</td>\n",
       "      <td>https://www.arabam.com//ilan/galeriden-satilik...</td>\n",
       "      <td>1598</td>\n",
       "      <td>120</td>\n",
       "      <td>63.000</td>\n",
       "      <td>Volkswagen_Passat</td>\n",
       "    </tr>\n",
       "    <tr>\n",
       "      <th>1</th>\n",
       "      <td>16224785</td>\n",
       "      <td>530xd Gran Turismo Premium</td>\n",
       "      <td>2011</td>\n",
       "      <td>Dizel</td>\n",
       "      <td>Yarı Otomatik</td>\n",
       "      <td>https://www.arabam.com//ilan/galeriden-satilik...</td>\n",
       "      <td>2501</td>\n",
       "      <td>226</td>\n",
       "      <td>350.000</td>\n",
       "      <td>BMW_5 Serisi</td>\n",
       "    </tr>\n",
       "  </tbody>\n",
       "</table>\n",
       "</div>"
      ],
      "text/plain": [
       "   İlan No:                       Model:  Yıl: Yakıt Tipi:    Vites Tipi:  \\\n",
       "0  16224840  1.6 TDi BlueMotion Highline  2017       Dizel  Yarı Otomatik   \n",
       "1  16224785   530xd Gran Turismo Premium  2011       Dizel  Yarı Otomatik   \n",
       "\n",
       "                                           car_link: motor_hacmi motor_gucu  \\\n",
       "0  https://www.arabam.com//ilan/galeriden-satilik...        1598        120   \n",
       "1  https://www.arabam.com//ilan/galeriden-satilik...        2501        226   \n",
       "\n",
       "  kilometre              marka  \n",
       "0    63.000  Volkswagen_Passat  \n",
       "1   350.000       BMW_5 Serisi  "
      ]
     },
     "execution_count": 149,
     "metadata": {},
     "output_type": "execute_result"
    }
   ],
   "source": [
    "df3.limit(2).toPandas()"
   ]
  },
  {
   "cell_type": "code",
   "execution_count": 150,
   "metadata": {},
   "outputs": [
    {
     "name": "stdout",
     "output_type": "stream",
     "text": [
      "root\n",
      " |-- İlan No:: string (nullable = true)\n",
      " |-- Model:: string (nullable = true)\n",
      " |-- Yıl:: string (nullable = true)\n",
      " |-- Yakıt Tipi:: string (nullable = true)\n",
      " |-- Vites Tipi:: string (nullable = true)\n",
      " |-- car_link:: string (nullable = true)\n",
      " |-- motor_hacmi: string (nullable = true)\n",
      " |-- motor_gucu: string (nullable = true)\n",
      " |-- kilometre: string (nullable = true)\n",
      " |-- marka: string (nullable = true)\n",
      "\n"
     ]
    }
   ],
   "source": [
    "df3.printSchema()"
   ]
  },
  {
   "cell_type": "code",
   "execution_count": 151,
   "metadata": {},
   "outputs": [
    {
     "data": {
      "text/plain": [
       "['İlan No:',\n",
       " 'Model:',\n",
       " 'Yıl:',\n",
       " 'Yakıt Tipi:',\n",
       " 'Vites Tipi:',\n",
       " 'car_link:',\n",
       " 'motor_hacmi',\n",
       " 'motor_gucu',\n",
       " 'kilometre',\n",
       " 'marka']"
      ]
     },
     "execution_count": 151,
     "metadata": {},
     "output_type": "execute_result"
    }
   ],
   "source": [
    "df3.columns"
   ]
  },
  {
   "cell_type": "code",
   "execution_count": 168,
   "metadata": {},
   "outputs": [],
   "source": [
    "df4=df3.select(\n",
    "F.col('Yıl:').cast(\"int\"),\n",
    "F.col('Yakıt Tipi:'),\n",
    "F.col('Vites Tipi:'),\n",
    "F.col('motor_hacmi').cast(\"int\"),\n",
    "F.col('motor_gucu').cast(\"int\"),\n",
    "F.col('kilometre').cast(\"int\"),\n",
    "F.col('marka'),\n",
    "F.col('Model:'))"
   ]
  },
  {
   "cell_type": "code",
   "execution_count": 169,
   "metadata": {},
   "outputs": [
    {
     "name": "stdout",
     "output_type": "stream",
     "text": [
      "root\n",
      " |-- Yıl:: integer (nullable = true)\n",
      " |-- Yakıt Tipi:: string (nullable = true)\n",
      " |-- Vites Tipi:: string (nullable = true)\n",
      " |-- motor_hacmi: integer (nullable = true)\n",
      " |-- motor_gucu: integer (nullable = true)\n",
      " |-- kilometre: integer (nullable = true)\n",
      " |-- marka: string (nullable = true)\n",
      " |-- Model:: string (nullable = true)\n",
      "\n"
     ]
    }
   ],
   "source": [
    "df4.printSchema()"
   ]
  },
  {
   "cell_type": "code",
   "execution_count": 170,
   "metadata": {},
   "outputs": [
    {
     "data": {
      "text/html": [
       "<div>\n",
       "<style scoped>\n",
       "    .dataframe tbody tr th:only-of-type {\n",
       "        vertical-align: middle;\n",
       "    }\n",
       "\n",
       "    .dataframe tbody tr th {\n",
       "        vertical-align: top;\n",
       "    }\n",
       "\n",
       "    .dataframe thead th {\n",
       "        text-align: right;\n",
       "    }\n",
       "</style>\n",
       "<table border=\"1\" class=\"dataframe\">\n",
       "  <thead>\n",
       "    <tr style=\"text-align: right;\">\n",
       "      <th></th>\n",
       "      <th>Yıl:</th>\n",
       "      <th>Yakıt Tipi:</th>\n",
       "      <th>Vites Tipi:</th>\n",
       "      <th>motor_hacmi</th>\n",
       "      <th>motor_gucu</th>\n",
       "      <th>kilometre</th>\n",
       "      <th>marka</th>\n",
       "      <th>Model:</th>\n",
       "    </tr>\n",
       "  </thead>\n",
       "  <tbody>\n",
       "    <tr>\n",
       "      <th>0</th>\n",
       "      <td>2017</td>\n",
       "      <td>Dizel</td>\n",
       "      <td>Yarı Otomatik</td>\n",
       "      <td>1598</td>\n",
       "      <td>120</td>\n",
       "      <td>63</td>\n",
       "      <td>Volkswagen_Passat</td>\n",
       "      <td>1.6 TDi BlueMotion Highline</td>\n",
       "    </tr>\n",
       "    <tr>\n",
       "      <th>1</th>\n",
       "      <td>2011</td>\n",
       "      <td>Dizel</td>\n",
       "      <td>Yarı Otomatik</td>\n",
       "      <td>2501</td>\n",
       "      <td>226</td>\n",
       "      <td>350</td>\n",
       "      <td>BMW_5 Serisi</td>\n",
       "      <td>530xd Gran Turismo Premium</td>\n",
       "    </tr>\n",
       "    <tr>\n",
       "      <th>2</th>\n",
       "      <td>1999</td>\n",
       "      <td>LPG &amp; Benzin</td>\n",
       "      <td>Otomatik</td>\n",
       "      <td>1598</td>\n",
       "      <td>107</td>\n",
       "      <td>163</td>\n",
       "      <td>Renault_Megane</td>\n",
       "      <td>2.0 RXE</td>\n",
       "    </tr>\n",
       "  </tbody>\n",
       "</table>\n",
       "</div>"
      ],
      "text/plain": [
       "   Yıl:   Yakıt Tipi:    Vites Tipi:  motor_hacmi  motor_gucu  kilometre  \\\n",
       "0  2017         Dizel  Yarı Otomatik         1598         120         63   \n",
       "1  2011         Dizel  Yarı Otomatik         2501         226        350   \n",
       "2  1999  LPG & Benzin       Otomatik         1598         107        163   \n",
       "\n",
       "               marka                       Model:  \n",
       "0  Volkswagen_Passat  1.6 TDi BlueMotion Highline  \n",
       "1       BMW_5 Serisi   530xd Gran Turismo Premium  \n",
       "2     Renault_Megane                      2.0 RXE  "
      ]
     },
     "execution_count": 170,
     "metadata": {},
     "output_type": "execute_result"
    }
   ],
   "source": [
    "df4.limit(3).toPandas()"
   ]
  },
  {
   "cell_type": "code",
   "execution_count": 171,
   "metadata": {},
   "outputs": [
    {
     "name": "stdout",
     "output_type": "stream",
     "text": [
      "Yıl: int type has 1 null values\n",
      "Yakıt Tipi: string type has 1 null values\n",
      "motor_hacmi int type has 13 null values\n",
      "motor_gucu int type has 20 null values\n"
     ]
    }
   ],
   "source": [
    "# Null check\n",
    "for(col_name, col_type) in zip(df4.columns, df4.dtypes):\n",
    "    null_count = df4.filter( (F.col(col_name).isNull()) | (F.col(col_name) == \"\")).count()\n",
    "    if(  null_count > 0 ):\n",
    "        print(\"{} {} type has {} null values\".format(col_name, col_type[1], null_count))"
   ]
  },
  {
   "cell_type": "code",
   "execution_count": 172,
   "metadata": {},
   "outputs": [
    {
     "data": {
      "text/plain": [
       "2009"
      ]
     },
     "execution_count": 172,
     "metadata": {},
     "output_type": "execute_result"
    }
   ],
   "source": [
    "yil_na=df4.filter(F.col(\"Yıl:\").isNull()).select(\"marka\").collect()[0][0]\n",
    "yil_na1=df4.filter(F.col(\"marka\")==yil_na).select(\"Yıl:\",\"marka\").groupBy(\"marka\").avg(\"Yıl:\").collect()[0][1]\n",
    "yil_na1=int(yil_na1)\n",
    "yil_na1"
   ]
  },
  {
   "cell_type": "code",
   "execution_count": 173,
   "metadata": {},
   "outputs": [],
   "source": [
    "df5=df4.na.fill(value=yil_na1,subset=[\"Yıl:\"])"
   ]
  },
  {
   "cell_type": "code",
   "execution_count": 174,
   "metadata": {},
   "outputs": [
    {
     "name": "stdout",
     "output_type": "stream",
     "text": [
      "Yakıt Tipi: string type has 1 null values\n",
      "motor_hacmi int type has 13 null values\n",
      "motor_gucu int type has 20 null values\n"
     ]
    }
   ],
   "source": [
    "for(col_name, col_type) in zip(df5.columns, df5.dtypes):\n",
    "    null_count = df5.filter( (F.col(col_name).isNull()) | (F.col(col_name) == \"\")).count()\n",
    "    if(  null_count > 0 ):\n",
    "        print(\"{} {} type has {} null values\".format(col_name, col_type[1], null_count))"
   ]
  },
  {
   "cell_type": "code",
   "execution_count": 175,
   "metadata": {},
   "outputs": [
    {
     "data": {
      "text/plain": [
       "Row(marka='Toyota_Corolla')"
      ]
     },
     "execution_count": 175,
     "metadata": {},
     "output_type": "execute_result"
    }
   ],
   "source": [
    "df5.filter(F.col(\"Yakıt Tipi:\").isNull()).select(\"marka\").collect()[0]"
   ]
  },
  {
   "cell_type": "code",
   "execution_count": 176,
   "metadata": {},
   "outputs": [],
   "source": [
    "df6=df5.na.fill(value=\"Benzin\",subset=\"Yakıt Tipi:\")"
   ]
  },
  {
   "cell_type": "code",
   "execution_count": 177,
   "metadata": {},
   "outputs": [
    {
     "data": {
      "text/html": [
       "<div>\n",
       "<style scoped>\n",
       "    .dataframe tbody tr th:only-of-type {\n",
       "        vertical-align: middle;\n",
       "    }\n",
       "\n",
       "    .dataframe tbody tr th {\n",
       "        vertical-align: top;\n",
       "    }\n",
       "\n",
       "    .dataframe thead th {\n",
       "        text-align: right;\n",
       "    }\n",
       "</style>\n",
       "<table border=\"1\" class=\"dataframe\">\n",
       "  <thead>\n",
       "    <tr style=\"text-align: right;\">\n",
       "      <th></th>\n",
       "      <th>Yıl:</th>\n",
       "      <th>Yakıt Tipi:</th>\n",
       "      <th>Vites Tipi:</th>\n",
       "      <th>motor_hacmi</th>\n",
       "      <th>motor_gucu</th>\n",
       "      <th>kilometre</th>\n",
       "      <th>marka</th>\n",
       "      <th>Model:</th>\n",
       "    </tr>\n",
       "  </thead>\n",
       "  <tbody>\n",
       "    <tr>\n",
       "      <th>0</th>\n",
       "      <td>2017</td>\n",
       "      <td>Dizel</td>\n",
       "      <td>Yarı Otomatik</td>\n",
       "      <td>1598</td>\n",
       "      <td>120</td>\n",
       "      <td>63</td>\n",
       "      <td>Volkswagen_Passat</td>\n",
       "      <td>1.6 TDi BlueMotion Highline</td>\n",
       "    </tr>\n",
       "    <tr>\n",
       "      <th>1</th>\n",
       "      <td>2011</td>\n",
       "      <td>Dizel</td>\n",
       "      <td>Yarı Otomatik</td>\n",
       "      <td>2501</td>\n",
       "      <td>226</td>\n",
       "      <td>350</td>\n",
       "      <td>BMW_5 Serisi</td>\n",
       "      <td>530xd Gran Turismo Premium</td>\n",
       "    </tr>\n",
       "    <tr>\n",
       "      <th>2</th>\n",
       "      <td>1999</td>\n",
       "      <td>LPG &amp; Benzin</td>\n",
       "      <td>Otomatik</td>\n",
       "      <td>1598</td>\n",
       "      <td>107</td>\n",
       "      <td>163</td>\n",
       "      <td>Renault_Megane</td>\n",
       "      <td>2.0 RXE</td>\n",
       "    </tr>\n",
       "    <tr>\n",
       "      <th>3</th>\n",
       "      <td>2017</td>\n",
       "      <td>Dizel</td>\n",
       "      <td>Düz</td>\n",
       "      <td>1248</td>\n",
       "      <td>95</td>\n",
       "      <td>105</td>\n",
       "      <td>Fiat_Egea</td>\n",
       "      <td>1.3 Multijet Urban</td>\n",
       "    </tr>\n",
       "    <tr>\n",
       "      <th>4</th>\n",
       "      <td>2013</td>\n",
       "      <td>Dizel</td>\n",
       "      <td>Yarı Otomatik</td>\n",
       "      <td>1598</td>\n",
       "      <td>90</td>\n",
       "      <td>82</td>\n",
       "      <td>Volkswagen_Polo</td>\n",
       "      <td>1.6 TDi Comfortline</td>\n",
       "    </tr>\n",
       "    <tr>\n",
       "      <th>5</th>\n",
       "      <td>2014</td>\n",
       "      <td>Dizel</td>\n",
       "      <td>Düz</td>\n",
       "      <td>1461</td>\n",
       "      <td>90</td>\n",
       "      <td>54</td>\n",
       "      <td>Dacia_Sandero</td>\n",
       "      <td>1.5 dCi Stepway</td>\n",
       "    </tr>\n",
       "    <tr>\n",
       "      <th>6</th>\n",
       "      <td>2017</td>\n",
       "      <td>Dizel</td>\n",
       "      <td>Yarı Otomatik</td>\n",
       "      <td>1598</td>\n",
       "      <td>120</td>\n",
       "      <td>105</td>\n",
       "      <td>Volkswagen_Passat Variant</td>\n",
       "      <td>1.6 TDi BlueMotion Comfortline</td>\n",
       "    </tr>\n",
       "    <tr>\n",
       "      <th>7</th>\n",
       "      <td>2017</td>\n",
       "      <td>Dizel</td>\n",
       "      <td>Düz</td>\n",
       "      <td>1560</td>\n",
       "      <td>93</td>\n",
       "      <td>93</td>\n",
       "      <td>Peugeot_301</td>\n",
       "      <td>1.6 HDi Active</td>\n",
       "    </tr>\n",
       "    <tr>\n",
       "      <th>8</th>\n",
       "      <td>2006</td>\n",
       "      <td>Benzin</td>\n",
       "      <td>Otomatik</td>\n",
       "      <td>1598</td>\n",
       "      <td>115</td>\n",
       "      <td>310</td>\n",
       "      <td>Volkswagen_Passat</td>\n",
       "      <td>1.6 FSi Comfortline</td>\n",
       "    </tr>\n",
       "    <tr>\n",
       "      <th>9</th>\n",
       "      <td>2004</td>\n",
       "      <td>LPG &amp; Benzin</td>\n",
       "      <td>Düz</td>\n",
       "      <td>1598</td>\n",
       "      <td>115</td>\n",
       "      <td>235</td>\n",
       "      <td>Renault_Megane</td>\n",
       "      <td>1.6 Dynamique</td>\n",
       "    </tr>\n",
       "  </tbody>\n",
       "</table>\n",
       "</div>"
      ],
      "text/plain": [
       "   Yıl:   Yakıt Tipi:    Vites Tipi:  motor_hacmi  motor_gucu  kilometre  \\\n",
       "0  2017         Dizel  Yarı Otomatik         1598         120         63   \n",
       "1  2011         Dizel  Yarı Otomatik         2501         226        350   \n",
       "2  1999  LPG & Benzin       Otomatik         1598         107        163   \n",
       "3  2017         Dizel            Düz         1248          95        105   \n",
       "4  2013         Dizel  Yarı Otomatik         1598          90         82   \n",
       "5  2014         Dizel            Düz         1461          90         54   \n",
       "6  2017         Dizel  Yarı Otomatik         1598         120        105   \n",
       "7  2017         Dizel            Düz         1560          93         93   \n",
       "8  2006        Benzin       Otomatik         1598         115        310   \n",
       "9  2004  LPG & Benzin            Düz         1598         115        235   \n",
       "\n",
       "                       marka                          Model:  \n",
       "0          Volkswagen_Passat     1.6 TDi BlueMotion Highline  \n",
       "1               BMW_5 Serisi      530xd Gran Turismo Premium  \n",
       "2             Renault_Megane                         2.0 RXE  \n",
       "3                  Fiat_Egea              1.3 Multijet Urban  \n",
       "4            Volkswagen_Polo             1.6 TDi Comfortline  \n",
       "5              Dacia_Sandero                 1.5 dCi Stepway  \n",
       "6  Volkswagen_Passat Variant  1.6 TDi BlueMotion Comfortline  \n",
       "7                Peugeot_301                  1.6 HDi Active  \n",
       "8          Volkswagen_Passat             1.6 FSi Comfortline  \n",
       "9             Renault_Megane                   1.6 Dynamique  "
      ]
     },
     "execution_count": 177,
     "metadata": {},
     "output_type": "execute_result"
    }
   ],
   "source": [
    "df6.limit(10).toPandas()"
   ]
  },
  {
   "cell_type": "code",
   "execution_count": 178,
   "metadata": {},
   "outputs": [
    {
     "data": {
      "text/html": [
       "<div>\n",
       "<style scoped>\n",
       "    .dataframe tbody tr th:only-of-type {\n",
       "        vertical-align: middle;\n",
       "    }\n",
       "\n",
       "    .dataframe tbody tr th {\n",
       "        vertical-align: top;\n",
       "    }\n",
       "\n",
       "    .dataframe thead th {\n",
       "        text-align: right;\n",
       "    }\n",
       "</style>\n",
       "<table border=\"1\" class=\"dataframe\">\n",
       "  <thead>\n",
       "    <tr style=\"text-align: right;\">\n",
       "      <th></th>\n",
       "      <th>marka</th>\n",
       "      <th>motor_hacmi</th>\n",
       "    </tr>\n",
       "  </thead>\n",
       "  <tbody>\n",
       "    <tr>\n",
       "      <th>0</th>\n",
       "      <td>Renault_R 19</td>\n",
       "      <td>NaN</td>\n",
       "    </tr>\n",
       "    <tr>\n",
       "      <th>1</th>\n",
       "      <td>Opel_Vectra</td>\n",
       "      <td>NaN</td>\n",
       "    </tr>\n",
       "    <tr>\n",
       "      <th>2</th>\n",
       "      <td>Audi_A3</td>\n",
       "      <td>NaN</td>\n",
       "    </tr>\n",
       "    <tr>\n",
       "      <th>3</th>\n",
       "      <td>Renault_Clio</td>\n",
       "      <td>NaN</td>\n",
       "    </tr>\n",
       "    <tr>\n",
       "      <th>4</th>\n",
       "      <td>Mercedes - Benz_200</td>\n",
       "      <td>NaN</td>\n",
       "    </tr>\n",
       "    <tr>\n",
       "      <th>5</th>\n",
       "      <td>Fiat_Linea</td>\n",
       "      <td>NaN</td>\n",
       "    </tr>\n",
       "    <tr>\n",
       "      <th>6</th>\n",
       "      <td>Seat_Leon</td>\n",
       "      <td>NaN</td>\n",
       "    </tr>\n",
       "    <tr>\n",
       "      <th>7</th>\n",
       "      <td>Fiat_Uno</td>\n",
       "      <td>NaN</td>\n",
       "    </tr>\n",
       "    <tr>\n",
       "      <th>8</th>\n",
       "      <td>Renault_R 12</td>\n",
       "      <td>NaN</td>\n",
       "    </tr>\n",
       "    <tr>\n",
       "      <th>9</th>\n",
       "      <td>Hyundai_Accent</td>\n",
       "      <td>NaN</td>\n",
       "    </tr>\n",
       "    <tr>\n",
       "      <th>10</th>\n",
       "      <td>Tofaş_Doğan</td>\n",
       "      <td>NaN</td>\n",
       "    </tr>\n",
       "    <tr>\n",
       "      <th>11</th>\n",
       "      <td>Honda_Civic</td>\n",
       "      <td>NaN</td>\n",
       "    </tr>\n",
       "    <tr>\n",
       "      <th>12</th>\n",
       "      <td>Hyundai_i30</td>\n",
       "      <td>NaN</td>\n",
       "    </tr>\n",
       "  </tbody>\n",
       "</table>\n",
       "</div>"
      ],
      "text/plain": [
       "                  marka  motor_hacmi\n",
       "0          Renault_R 19          NaN\n",
       "1           Opel_Vectra          NaN\n",
       "2               Audi_A3          NaN\n",
       "3          Renault_Clio          NaN\n",
       "4   Mercedes - Benz_200          NaN\n",
       "5            Fiat_Linea          NaN\n",
       "6             Seat_Leon          NaN\n",
       "7              Fiat_Uno          NaN\n",
       "8          Renault_R 12          NaN\n",
       "9        Hyundai_Accent          NaN\n",
       "10          Tofaş_Doğan          NaN\n",
       "11          Honda_Civic          NaN\n",
       "12          Hyundai_i30          NaN"
      ]
     },
     "execution_count": 178,
     "metadata": {},
     "output_type": "execute_result"
    }
   ],
   "source": [
    "df6.filter(F.col(\"motor_hacmi\").isNull()).select(\"marka\",\"motor_hacmi\").toPandas()"
   ]
  },
  {
   "cell_type": "code",
   "execution_count": 183,
   "metadata": {},
   "outputs": [],
   "source": [
    "df7=df6.withColumn(\"motor_hacmi\",F.when((df6.marka==\"Renault_R 19_1.6 Europa RTE\") & (F.col(\"motor_hacmi\").isNull()),1600) \\\n",
    ".when((df6.marka==\"Renault_R 19_1.6 Europa RTE\")&(F.col(\"motor_hacmi\").isNull()),1600) \\\n",
    ".when((df6.marka==\"Opel_Vectra_2.5 CDX\")&F.col(\"motor_hacmi\").isNull(),2500) \\\n",
    ".when((df6.marka==\"Audi_A3_A3 Sportback 1.6 Ambition\")&F.col(\"motor_hacmi\").isNull(),1600) \\\n",
    ".when((df6.marka==\"Renault_Clio_2.0 Williams\")&F.col(\"motor_hacmi\").isNull(),2000) \\\n",
    ".when((df6.marka==\"Mercedes - Benz_200_D\")&F.col(\"motor_hacmi\").isNull(),2000) \\\n",
    ".when((df6.marka==\"Fiat_Linea_1.3 Multijet Pop\")&F.col(\"motor_hacmi\").isNull(),1300) \\\n",
    ".when((df6.marka==\"Seat_Leon_1.4 TSI Stylance\")&F.col(\"motor_hacmi\").isNull(),1400) \\\n",
    ".when((df6.marka==\"Fiat_Uno_1.4 ie SX\")&F.col(\"motor_hacmi\").isNull(),1400) \\\n",
    ".when((df6.marka==\"Renault_R 12_GTS\")&F.col(\"motor_hacmi\").isNull(),1600) \\\n",
    ".when((df6.marka==\"Hyundai_Accent_1.3 LS\")&F.col(\"motor_hacmi\").isNull(),1300) \\\n",
    ".when((df6.marka==\"Tofaş_Doğan_SLX ie\")&F.col(\"motor_hacmi\").isNull(),1600) \\\n",
    ".when((df6.marka==\"Honda_Civic_1.6 i-VTEC ES\")&F.col(\"motor_hacmi\").isNull(),1600) \\\n",
    ".when((df6.marka==\"Hyundai_i30_1.4 CVVT Team\")&F.col(\"motor_hacmi\").isNull(),1400).otherwise(F.col(\"motor_hacmi\")))"
   ]
  },
  {
   "cell_type": "code",
   "execution_count": 184,
   "metadata": {},
   "outputs": [
    {
     "name": "stdout",
     "output_type": "stream",
     "text": [
      "motor_hacmi int type has 13 null values\n",
      "motor_gucu int type has 20 null values\n"
     ]
    }
   ],
   "source": [
    "for(col_name, col_type) in zip(df7.columns, df7.dtypes):\n",
    "    null_count = df7.filter( (F.col(col_name).isNull()) | (F.col(col_name) == \"\")).count()\n",
    "    if(  null_count > 0 ):\n",
    "        print(\"{} {} type has {} null values\".format(col_name, col_type[1], null_count))"
   ]
  },
  {
   "cell_type": "code",
   "execution_count": 186,
   "metadata": {},
   "outputs": [],
   "source": [
    "df8=df7.dropna(how=\"any\")"
   ]
  },
  {
   "cell_type": "code",
   "execution_count": 187,
   "metadata": {},
   "outputs": [],
   "source": [
    "\n",
    "categoric_cols = []\n",
    "numeric_cols = []\n",
    "discarted_cols = []\n",
    "label_col = []"
   ]
  },
  {
   "cell_type": "code",
   "execution_count": 188,
   "metadata": {},
   "outputs": [],
   "source": [
    "# column seperation\n",
    "for col_name in df7.dtypes:\n",
    "    if (col_name[0] not in []):\n",
    "        if (col_name[1] == 'string'):\n",
    "            categoric_cols.append(col_name[0])\n",
    "        else: numeric_cols.append(col_name[0])"
   ]
  },
  {
   "cell_type": "code",
   "execution_count": 189,
   "metadata": {},
   "outputs": [
    {
     "name": "stdout",
     "output_type": "stream",
     "text": [
      "+------------+----------+\n",
      "| Yakıt Tipi:|TotalCount|\n",
      "+------------+----------+\n",
      "|       Dizel|       443|\n",
      "|LPG & Benzin|       312|\n",
      "|      Benzin|       211|\n",
      "+------------+----------+\n",
      "\n",
      "+-------------+----------+\n",
      "|  Vites Tipi:|TotalCount|\n",
      "+-------------+----------+\n",
      "|          Düz|       636|\n",
      "|Yarı Otomatik|       186|\n",
      "|     Otomatik|       144|\n",
      "+-------------+----------+\n",
      "\n",
      "+-----------------+----------+\n",
      "|            marka|TotalCount|\n",
      "+-----------------+----------+\n",
      "|     Renault_Clio|        54|\n",
      "|       Opel_Astra|        52|\n",
      "|Volkswagen_Passat|        47|\n",
      "|   Toyota_Corolla|        41|\n",
      "|   Renault_Megane|        38|\n",
      "|       Ford_Focus|        37|\n",
      "|       Fiat_Linea|        34|\n",
      "|  Volkswagen_Polo|        31|\n",
      "|  Renault_Fluence|        30|\n",
      "|  Volkswagen_Golf|        24|\n",
      "|      Honda_Civic|        22|\n",
      "|   Renault_Symbol|        21|\n",
      "| Volkswagen_Jetta|        21|\n",
      "|        Fiat_Egea|        19|\n",
      "|      Ford_Fiesta|        18|\n",
      "|      Tofaş_Şahin|        17|\n",
      "|       Opel_Corsa|        14|\n",
      "|      Opel_Vectra|        14|\n",
      "|        Seat_Leon|        13|\n",
      "|      Renault_R 9|        13|\n",
      "+-----------------+----------+\n",
      "only showing top 20 rows\n",
      "\n",
      "+--------------------+----------+\n",
      "|              Model:|TotalCount|\n",
      "+--------------------+----------+\n",
      "|         1.5 dCi Joy|        24|\n",
      "|1.6 TDi BlueMotio...|        17|\n",
      "|       1.5 dCi Touch|        15|\n",
      "|    1.3 Multijet Pop|        14|\n",
      "|        1.5 dCi Icon|        13|\n",
      "|                 1.6|        12|\n",
      "| 1.5 dCi Authentique|        12|\n",
      "|     1.6 Comfortline|        11|\n",
      "|  1.3 Multijet Urban|        10|\n",
      "|1.3 Multijet Acti...|         8|\n",
      "|         1.6 Comfort|         8|\n",
      "|1.6 i-VTEC ECO El...|         8|\n",
      "|           1.33 Life|         8|\n",
      "|         1.6 Edition|         7|\n",
      "|      1.3 CDTI Enjoy|         7|\n",
      "|       1.4 CRDi Jump|         7|\n",
      "|    1.6 TDCi Trend X|         7|\n",
      "|      1.6 HDi Active|         7|\n",
      "| 1.6 TDi Comfortline|         7|\n",
      "|       1.6 Dynamique|         7|\n",
      "+--------------------+----------+\n",
      "only showing top 20 rows\n",
      "\n"
     ]
    }
   ],
   "source": [
    "for col_name in categoric_cols:\n",
    "    df7.groupBy(col_name).agg(F.count(\"*\").alias(\"TotalCount\")).orderBy(F.desc(\"TotalCount\")).show()"
   ]
  },
  {
   "cell_type": "code",
   "execution_count": 212,
   "metadata": {},
   "outputs": [
    {
     "data": {
      "text/plain": [
       "['Yıl:',\n",
       " 'Yakıt Tipi:',\n",
       " 'Vites Tipi:',\n",
       " 'motor_hacmi',\n",
       " 'motor_gucu',\n",
       " 'kilometre',\n",
       " 'marka',\n",
       " 'Model:']"
      ]
     },
     "execution_count": 212,
     "metadata": {},
     "output_type": "execute_result"
    }
   ],
   "source": [
    "df7.columns"
   ]
  },
  {
   "cell_type": "code",
   "execution_count": null,
   "metadata": {},
   "outputs": [],
   "source": [
    "\n",
    "# column seperation after analysis\n",
    "categoric_cols = []\n",
    "numeric_cols = []\n",
    "# Why we discard these? Because they have high cardinality. In other words they have too many distinct categories\n",
    "# Adding them to model will not do good if not too bad.\n",
    "discarted_cols = ['CustomerID', 'ServiceArea']\n",
    "label_col = ['Churn']"
   ]
  },
  {
   "cell_type": "code",
   "execution_count": null,
   "metadata": {},
   "outputs": [],
   "source": [
    "\n",
    "for col_name in df1.dtypes:\n",
    "    if (col_name[0] not in discarted_cols+label_col):\n",
    "        if (col_name[1] == 'string'):\n",
    "            categoric_cols.append(col_name[0])\n",
    "        else: numeric_cols.append(col_name[0])"
   ]
  },
  {
   "cell_type": "code",
   "execution_count": 195,
   "metadata": {},
   "outputs": [
    {
     "data": {
      "text/plain": [
       "144"
      ]
     },
     "execution_count": 195,
     "metadata": {},
     "output_type": "execute_result"
    }
   ],
   "source": [
    "df7.select(\"marka\").groupBy(\"marka\").agg(F.count(\"*\")).toPandas()[\"marka\"].value_counts().sum()"
   ]
  },
  {
   "cell_type": "code",
   "execution_count": 197,
   "metadata": {},
   "outputs": [
    {
     "name": "stdout",
     "output_type": "stream",
     "text": [
      "Yakıt Tipi: has 3 distinct category.\n",
      "Vites Tipi: has 3 distinct category.\n",
      "marka has 144 distinct category.\n",
      "Model: has 488 distinct category.\n"
     ]
    }
   ],
   "source": [
    "# Here we count the distinct categories in categoric columns. If there is more than two,\n",
    "# we will add those to to_be_onehotencoded_cols list If there is just 2 we don't need to use onehotencoder\n",
    "# So if distinct category gt 2 we have to add it to_be_onehotencoded_cols list\n",
    "to_be_onehotencoded_cols = []\n",
    "\n",
    "for col_name in categoric_cols:\n",
    "    count = df7.select(col_name).distinct().count()\n",
    "    if count > 2:\n",
    "        to_be_onehotencoded_cols.append(col_name)\n",
    "    print(\"{} has {} distinct category.\".format(col_name, count))\n",
    "    "
   ]
  },
  {
   "cell_type": "code",
   "execution_count": 198,
   "metadata": {},
   "outputs": [
    {
     "name": "stdout",
     "output_type": "stream",
     "text": [
      "['Yakıt Tipi:', 'Vites Tipi:', 'marka', 'Model:']\n"
     ]
    }
   ],
   "source": [
    "print(to_be_onehotencoded_cols)"
   ]
  },
  {
   "cell_type": "markdown",
   "metadata": {},
   "source": [
    "# StringIndexer"
   ]
  },
  {
   "cell_type": "code",
   "execution_count": 199,
   "metadata": {},
   "outputs": [],
   "source": [
    "from pyspark.ml.feature import StringIndexer"
   ]
  },
  {
   "cell_type": "code",
   "execution_count": 200,
   "metadata": {},
   "outputs": [],
   "source": [
    "# Will hold stringIndexer objects and column names\n",
    "my_dict = {}\n",
    "\n",
    "# Will collect StringIndexer ojects\n",
    "string_indexer_objs = []\n",
    "\n",
    "# Will collect StringIndexer output colnames\n",
    "string_indexer_output_names = []\n",
    "\n",
    "# Will collect OneHotEncoder output colnames\n",
    "ohe_col_input_names = []\n",
    "ohe_col_output_names = []\n",
    "\n",
    "for col_name in categoric_cols:\n",
    "    my_dict[col_name+\"_indexobj\"] = StringIndexer() \\\n",
    "    .setHandleInvalid('skip') \\\n",
    "    .setInputCol(col_name) \\\n",
    "    .setOutputCol(col_name+\"_indexed\")\n",
    "    \n",
    "    string_indexer_objs.append(my_dict.get(col_name+\"_indexobj\"))\n",
    "    string_indexer_output_names.append(col_name+\"_indexed\")\n",
    "    if col_name in to_be_onehotencoded_cols:\n",
    "        ohe_col_input_names.append(col_name+\"_indexed\")\n",
    "        ohe_col_output_names.append(col_name+\"_ohe\")"
   ]
  },
  {
   "cell_type": "code",
   "execution_count": 201,
   "metadata": {},
   "outputs": [
    {
     "name": "stdout",
     "output_type": "stream",
     "text": [
      "[StringIndexer_bfcee90c195c, StringIndexer_42d2032fd146, StringIndexer_515f38b92be6, StringIndexer_bd1f2bb8a9f8]\n",
      "4\n"
     ]
    }
   ],
   "source": [
    "print(string_indexer_objs)\n",
    "print(len(string_indexer_objs))"
   ]
  },
  {
   "cell_type": "code",
   "execution_count": 203,
   "metadata": {},
   "outputs": [
    {
     "name": "stdout",
     "output_type": "stream",
     "text": [
      "['Yakıt Tipi:_indexed', 'Vites Tipi:_indexed', 'marka_indexed', 'Model:_indexed']\n",
      "4\n"
     ]
    }
   ],
   "source": [
    "print(ohe_col_input_names)\n",
    "print(len(ohe_col_input_names))"
   ]
  },
  {
   "cell_type": "code",
   "execution_count": 202,
   "metadata": {},
   "outputs": [
    {
     "name": "stdout",
     "output_type": "stream",
     "text": [
      "['Yakıt Tipi:_indexed', 'Vites Tipi:_indexed', 'marka_indexed', 'Model:_indexed']\n",
      "4\n"
     ]
    }
   ],
   "source": [
    "print(string_indexer_output_names)\n",
    "print(len(string_indexer_output_names))"
   ]
  },
  {
   "cell_type": "markdown",
   "metadata": {},
   "source": [
    "# OnehotEncoder"
   ]
  },
  {
   "cell_type": "code",
   "execution_count": 204,
   "metadata": {},
   "outputs": [],
   "source": [
    "from pyspark.ml.feature import OneHotEncoder"
   ]
  },
  {
   "cell_type": "code",
   "execution_count": 205,
   "metadata": {},
   "outputs": [],
   "source": [
    "encoder = OneHotEncoder() \\\n",
    ".setInputCols(ohe_col_input_names) \\\n",
    ".setOutputCols(ohe_col_output_names)"
   ]
  },
  {
   "cell_type": "code",
   "execution_count": 206,
   "metadata": {},
   "outputs": [],
   "source": [
    "from pyspark.ml.feature import VectorAssembler"
   ]
  },
  {
   "cell_type": "markdown",
   "metadata": {},
   "source": [
    "## VectorAssembler"
   ]
  },
  {
   "cell_type": "code",
   "execution_count": 207,
   "metadata": {},
   "outputs": [
    {
     "data": {
      "text/plain": [
       "[]"
      ]
     },
     "execution_count": 207,
     "metadata": {},
     "output_type": "execute_result"
    }
   ],
   "source": [
    "string_indexer_col_names_ohe_exluded = list(set(string_indexer_output_names).difference(set(ohe_col_input_names)))\n",
    "string_indexer_col_names_ohe_exluded"
   ]
  },
  {
   "cell_type": "code",
   "execution_count": 208,
   "metadata": {},
   "outputs": [
    {
     "name": "stdout",
     "output_type": "stream",
     "text": [
      "Columns verified\n"
     ]
    }
   ],
   "source": [
    "if len(categoric_cols) == (len(string_indexer_col_names_ohe_exluded)+len(ohe_col_output_names)):\n",
    "    print(\"Columns verified\")\n",
    "else: print(\"Columns are not verified\")"
   ]
  },
  {
   "cell_type": "code",
   "execution_count": 209,
   "metadata": {},
   "outputs": [],
   "source": [
    "assembler = VectorAssembler().setHandleInvalid(\"skip\") \\\n",
    ".setInputCols(numeric_cols+string_indexer_col_names_ohe_exluded+ohe_col_output_names) \\\n",
    ".setOutputCol('unscaled_features')"
   ]
  },
  {
   "cell_type": "code",
   "execution_count": 211,
   "metadata": {},
   "outputs": [
    {
     "data": {
      "text/plain": [
       "[]"
      ]
     },
     "execution_count": 211,
     "metadata": {},
     "output_type": "execute_result"
    }
   ],
   "source": [
    "label_col"
   ]
  },
  {
   "cell_type": "code",
   "execution_count": 210,
   "metadata": {},
   "outputs": [
    {
     "ename": "IndexError",
     "evalue": "list index out of range",
     "output_type": "error",
     "traceback": [
      "\u001b[0;31m---------------------------------------------------------------------------\u001b[0m",
      "\u001b[0;31mIndexError\u001b[0m                                Traceback (most recent call last)",
      "\u001b[0;32m<ipython-input-210-a53501f384c6>\u001b[0m in \u001b[0;36m<module>\u001b[0;34m\u001b[0m\n\u001b[1;32m      1\u001b[0m \u001b[0mlabel_indexer\u001b[0m \u001b[0;34m=\u001b[0m \u001b[0mStringIndexer\u001b[0m\u001b[0;34m(\u001b[0m\u001b[0;34m)\u001b[0m\u001b[0;34m.\u001b[0m\u001b[0msetHandleInvalid\u001b[0m\u001b[0;34m(\u001b[0m\u001b[0;34m\"skip\"\u001b[0m\u001b[0;34m)\u001b[0m\u001b[0;31m \u001b[0m\u001b[0;31m\\\u001b[0m\u001b[0;34m\u001b[0m\u001b[0;34m\u001b[0m\u001b[0m\n\u001b[0;32m----> 2\u001b[0;31m \u001b[0;34m.\u001b[0m\u001b[0msetInputCol\u001b[0m\u001b[0;34m(\u001b[0m\u001b[0mlabel_col\u001b[0m\u001b[0;34m[\u001b[0m\u001b[0;36m0\u001b[0m\u001b[0;34m]\u001b[0m\u001b[0;34m)\u001b[0m\u001b[0;31m \u001b[0m\u001b[0;31m\\\u001b[0m\u001b[0;34m\u001b[0m\u001b[0;34m\u001b[0m\u001b[0m\n\u001b[0m\u001b[1;32m      3\u001b[0m \u001b[0;34m.\u001b[0m\u001b[0msetOutputCol\u001b[0m\u001b[0;34m(\u001b[0m\u001b[0;34m\"label\"\u001b[0m\u001b[0;34m)\u001b[0m\u001b[0;34m\u001b[0m\u001b[0;34m\u001b[0m\u001b[0m\n",
      "\u001b[0;31mIndexError\u001b[0m: list index out of range"
     ]
    }
   ],
   "source": [
    "from pyspark.ml.feature import StandardScaler"
   ]
  },
  {
   "cell_type": "code",
   "execution_count": null,
   "metadata": {},
   "outputs": [],
   "source": [
    "scaler = StandardScaler().setInputCol(\"unscaled_features\").setOutputCol(\"scaled_features\")"
   ]
  },
  {
   "cell_type": "markdown",
   "metadata": {},
   "source": [
    "## PCA"
   ]
  },
  {
   "cell_type": "code",
   "execution_count": null,
   "metadata": {},
   "outputs": [],
   "source": [
    "from pyspark.ml.feature import PCA"
   ]
  },
  {
   "cell_type": "code",
   "execution_count": null,
   "metadata": {},
   "outputs": [],
   "source": [
    "#pca = PCA().setInputCol(\"scaled_features\").setK(10).setOutputCol(\"features\")"
   ]
  },
  {
   "cell_type": "markdown",
   "metadata": {},
   "source": [
    "# Estimator: GBTClassifier"
   ]
  },
  {
   "cell_type": "code",
   "execution_count": null,
   "metadata": {},
   "outputs": [],
   "source": [
    "from pyspark.ml.classification import GBTClassifier"
   ]
  },
  {
   "cell_type": "code",
   "execution_count": null,
   "metadata": {},
   "outputs": [],
   "source": [
    "estimator = GBTClassifier() \\\n",
    ".setFeaturesCol(\"features\") \\\n",
    ".setLabelCol(\"label\")"
   ]
  },
  {
   "cell_type": "markdown",
   "metadata": {},
   "source": [
    "## Pipeline"
   ]
  },
  {
   "cell_type": "code",
   "execution_count": null,
   "metadata": {},
   "outputs": [],
   "source": [
    "from pyspark.ml import Pipeline"
   ]
  },
  {
   "cell_type": "code",
   "execution_count": null,
   "metadata": {},
   "outputs": [],
   "source": [
    "pipeline_obj = Pipeline().setStages(string_indexer_objs+[encoder, assembler, label_indexer, scaler, pca, estimator])"
   ]
  },
  {
   "cell_type": "markdown",
   "metadata": {},
   "source": [
    "# Split data"
   ]
  },
  {
   "cell_type": "code",
   "execution_count": null,
   "metadata": {},
   "outputs": [],
   "source": [
    "train_df, test_df = df1.randomSplit([0.2,0.8], seed=142)"
   ]
  },
  {
   "cell_type": "markdown",
   "metadata": {},
   "source": [
    "# Train MoDEL"
   ]
  },
  {
   "cell_type": "code",
   "execution_count": null,
   "metadata": {},
   "outputs": [],
   "source": [
    "pipeline_model = pipeline_obj.fit(train_df)"
   ]
  },
  {
   "cell_type": "markdown",
   "metadata": {},
   "source": [
    "# Save the model"
   ]
  },
  {
   "cell_type": "code",
   "execution_count": null,
   "metadata": {},
   "outputs": [],
   "source": [
    "pipeline_model.stages[-1].write().overwrite().save(\"saved_models/gbt_churn_pca10\")"
   ]
  },
  {
   "cell_type": "markdown",
   "metadata": {},
   "source": [
    "# Prediction"
   ]
  },
  {
   "cell_type": "code",
   "execution_count": null,
   "metadata": {},
   "outputs": [],
   "source": [
    "transformed_df = pipeline_model.transform(test_df)"
   ]
  },
  {
   "cell_type": "code",
   "execution_count": null,
   "metadata": {},
   "outputs": [],
   "source": [
    "transformed_df.select('label','prediction','probability','rawPrediction').show(truncate=False)"
   ]
  },
  {
   "cell_type": "markdown",
   "metadata": {},
   "source": [
    "# Evaluate the model"
   ]
  },
  {
   "cell_type": "code",
   "execution_count": null,
   "metadata": {},
   "outputs": [],
   "source": [
    "from pyspark.ml.evaluation import BinaryClassificationEvaluator"
   ]
  },
  {
   "cell_type": "code",
   "execution_count": null,
   "metadata": {},
   "outputs": [],
   "source": [
    "evaluator = BinaryClassificationEvaluator()"
   ]
  },
  {
   "cell_type": "code",
   "execution_count": null,
   "metadata": {},
   "outputs": [],
   "source": [
    "evaluator.evaluate(transformed_df)"
   ]
  },
  {
   "cell_type": "code",
   "execution_count": null,
   "metadata": {},
   "outputs": [],
   "source": [
    "evaluator.getMetricName()"
   ]
  },
  {
   "cell_type": "code",
   "execution_count": null,
   "metadata": {},
   "outputs": [],
   "source": [
    "transformed_df.select('label','prediction','probability','rawPrediction') \\\n",
    ".filter(\"prediction == 1.0\") \\\n",
    ".show(truncate=False)"
   ]
  },
  {
   "cell_type": "code",
   "execution_count": null,
   "metadata": {},
   "outputs": [],
   "source": [
    "transformed_df.select('label','prediction','probability','rawPrediction') \\\n",
    ".withColumn(\"score\", F.col('probability').cast('string')).show()"
   ]
  },
  {
   "cell_type": "code",
   "execution_count": null,
   "metadata": {},
   "outputs": [],
   "source": [
    "transformed_df.select('label','prediction','probability','rawPrediction').printSchema()"
   ]
  },
  {
   "cell_type": "markdown",
   "metadata": {},
   "source": [
    "# Hyperparameter Tuning"
   ]
  },
  {
   "cell_type": "code",
   "execution_count": null,
   "metadata": {},
   "outputs": [],
   "source": [
    "from pyspark.ml.tuning import CrossValidatorModel, ParamGridBuilder, CrossValidator"
   ]
  },
  {
   "cell_type": "code",
   "execution_count": null,
   "metadata": {},
   "outputs": [],
   "source": [
    "paramGrid = ParamGridBuilder() \\\n",
    ".addGrid(pca.k, [15, 25]) \\\n",
    ".addGrid(estimator.maxDepth, [5, 10]) \\\n",
    ".addGrid(estimator.maxBins, [32, 50]) \\\n",
    ".build()"
   ]
  },
  {
   "cell_type": "code",
   "execution_count": null,
   "metadata": {},
   "outputs": [],
   "source": [
    "crossval = CrossValidator(estimator=pipeline_obj,\n",
    "                          estimatorParamMaps=paramGrid,\n",
    "                          evaluator=BinaryClassificationEvaluator(),\n",
    "                          numFolds=5) "
   ]
  },
  {
   "cell_type": "code",
   "execution_count": null,
   "metadata": {},
   "outputs": [],
   "source": [
    "cvModel = crossval.fit(df1)"
   ]
  },
  {
   "cell_type": "code",
   "execution_count": null,
   "metadata": {},
   "outputs": [],
   "source": [
    "type(cvModel)"
   ]
  },
  {
   "cell_type": "code",
   "execution_count": null,
   "metadata": {},
   "outputs": [],
   "source": [
    "cvModel.params"
   ]
  },
  {
   "cell_type": "code",
   "execution_count": null,
   "metadata": {},
   "outputs": [],
   "source": [
    "bestModel = cvModel.bestModel"
   ]
  },
  {
   "cell_type": "code",
   "execution_count": null,
   "metadata": {},
   "outputs": [],
   "source": [
    "evaluator.evaluate(bestModel.transform(df1))"
   ]
  },
  {
   "cell_type": "code",
   "execution_count": null,
   "metadata": {},
   "outputs": [],
   "source": [
    "evaluator.evaluate(cvModel.transform(df1))"
   ]
  },
  {
   "cell_type": "code",
   "execution_count": null,
   "metadata": {},
   "outputs": [],
   "source": [
    "spark.stop()"
   ]
  },
  {
   "cell_type": "code",
   "execution_count": null,
   "metadata": {},
   "outputs": [],
   "source": []
  },
  {
   "cell_type": "code",
   "execution_count": null,
   "metadata": {},
   "outputs": [],
   "source": []
  },
  {
   "cell_type": "code",
   "execution_count": null,
   "metadata": {},
   "outputs": [],
   "source": []
  },
  {
   "cell_type": "code",
   "execution_count": null,
   "metadata": {},
   "outputs": [],
   "source": []
  },
  {
   "cell_type": "code",
   "execution_count": null,
   "metadata": {},
   "outputs": [],
   "source": []
  },
  {
   "cell_type": "code",
   "execution_count": null,
   "metadata": {},
   "outputs": [],
   "source": []
  },
  {
   "cell_type": "code",
   "execution_count": null,
   "metadata": {},
   "outputs": [],
   "source": []
  },
  {
   "cell_type": "code",
   "execution_count": null,
   "metadata": {},
   "outputs": [],
   "source": []
  },
  {
   "cell_type": "code",
   "execution_count": null,
   "metadata": {},
   "outputs": [],
   "source": []
  },
  {
   "cell_type": "code",
   "execution_count": null,
   "metadata": {},
   "outputs": [],
   "source": []
  },
  {
   "cell_type": "code",
   "execution_count": null,
   "metadata": {},
   "outputs": [],
   "source": []
  },
  {
   "cell_type": "code",
   "execution_count": null,
   "metadata": {},
   "outputs": [],
   "source": []
  },
  {
   "cell_type": "code",
   "execution_count": null,
   "metadata": {},
   "outputs": [],
   "source": []
  },
  {
   "cell_type": "code",
   "execution_count": null,
   "metadata": {},
   "outputs": [],
   "source": []
  },
  {
   "cell_type": "code",
   "execution_count": null,
   "metadata": {},
   "outputs": [],
   "source": []
  },
  {
   "cell_type": "code",
   "execution_count": null,
   "metadata": {},
   "outputs": [],
   "source": []
  },
  {
   "cell_type": "code",
   "execution_count": null,
   "metadata": {},
   "outputs": [],
   "source": []
  }
 ],
 "metadata": {
  "kernelspec": {
   "display_name": "Python 3",
   "language": "python",
   "name": "python3"
  },
  "language_info": {
   "codemirror_mode": {
    "name": "ipython",
    "version": 3
   },
   "file_extension": ".py",
   "mimetype": "text/x-python",
   "name": "python",
   "nbconvert_exporter": "python",
   "pygments_lexer": "ipython3",
   "version": "3.6.8"
  }
 },
 "nbformat": 4,
 "nbformat_minor": 4
}
