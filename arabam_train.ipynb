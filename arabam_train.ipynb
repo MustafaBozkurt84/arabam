{
 "cells": [
  {
   "cell_type": "code",
   "execution_count": 75,
   "metadata": {},
   "outputs": [],
   "source": [
    "import findspark"
   ]
  },
  {
   "cell_type": "code",
   "execution_count": 76,
   "metadata": {},
   "outputs": [],
   "source": [
    "\n",
    "findspark.init(\"/opt/manual/spark\")"
   ]
  },
  {
   "cell_type": "code",
   "execution_count": 77,
   "metadata": {},
   "outputs": [],
   "source": [
    "\n",
    "from pyspark.sql import SparkSession, functions as F\n",
    "import pandas as pd"
   ]
  },
  {
   "cell_type": "code",
   "execution_count": 78,
   "metadata": {},
   "outputs": [],
   "source": [
    "spark = SparkSession.builder \\\n",
    ".appName(\"arabam_com\") \\\n",
    ".master(\"yarn\") \\\n",
    ".getOrCreate()"
   ]
  },
  {
   "cell_type": "code",
   "execution_count": 79,
   "metadata": {},
   "outputs": [],
   "source": [
    "#! hdfs dfs -rm /user/train/datasets/arabam.csv"
   ]
  },
  {
   "cell_type": "code",
   "execution_count": 80,
   "metadata": {},
   "outputs": [],
   "source": [
    "#! hdfs dfs -put ~/Desktop/arabam/arabam.csv /user/train/datasets/"
   ]
  },
  {
   "cell_type": "code",
   "execution_count": 81,
   "metadata": {},
   "outputs": [],
   "source": [
    "df1 = spark.read.format(\"csv\") \\\n",
    ".option(\"header\",True) \\\n",
    ".option(\"inferShema\",True) \\\n",
    ".option(\"sep\",\",\")  \\\n",
    ".load(\"hdfs://localhost:9000/user/train/datasets/arabam.csv\")"
   ]
  },
  {
   "cell_type": "code",
   "execution_count": 82,
   "metadata": {},
   "outputs": [
    {
     "data": {
      "text/html": [
       "<div>\n",
       "<style scoped>\n",
       "    .dataframe tbody tr th:only-of-type {\n",
       "        vertical-align: middle;\n",
       "    }\n",
       "\n",
       "    .dataframe tbody tr th {\n",
       "        vertical-align: top;\n",
       "    }\n",
       "\n",
       "    .dataframe thead th {\n",
       "        text-align: right;\n",
       "    }\n",
       "</style>\n",
       "<table border=\"1\" class=\"dataframe\">\n",
       "  <thead>\n",
       "    <tr style=\"text-align: right;\">\n",
       "      <th></th>\n",
       "      <th>_c0</th>\n",
       "      <th>İlan No:</th>\n",
       "      <th>İlan Tarihi:</th>\n",
       "      <th>Marka:</th>\n",
       "      <th>Seri:</th>\n",
       "      <th>Model:</th>\n",
       "      <th>Yıl:</th>\n",
       "      <th>Yakıt Tipi:</th>\n",
       "      <th>Vites Tipi:</th>\n",
       "      <th>Motor Hacmi:</th>\n",
       "      <th>Motor Gücü:</th>\n",
       "      <th>Kilometre:</th>\n",
       "      <th>car_link:</th>\n",
       "      <th>price</th>\n",
       "    </tr>\n",
       "  </thead>\n",
       "  <tbody>\n",
       "    <tr>\n",
       "      <th>0</th>\n",
       "      <td>0</td>\n",
       "      <td>16251517</td>\n",
       "      <td>23 Aralık 2020</td>\n",
       "      <td>Volkswagen</td>\n",
       "      <td>Passat Variant</td>\n",
       "      <td>1.6 TDi BlueMotion Comfortline</td>\n",
       "      <td>2012</td>\n",
       "      <td>Dizel</td>\n",
       "      <td>Yarı Otomatik</td>\n",
       "      <td>1598 cc</td>\n",
       "      <td>105 hp</td>\n",
       "      <td>70.000 km</td>\n",
       "      <td>https://www.arabam.com//ilan/sahibinden-satili...</td>\n",
       "      <td>200.000 TL</td>\n",
       "    </tr>\n",
       "    <tr>\n",
       "      <th>1</th>\n",
       "      <td>1</td>\n",
       "      <td>15943402</td>\n",
       "      <td>22 Aralık 2020</td>\n",
       "      <td>Volkswagen</td>\n",
       "      <td>Polo</td>\n",
       "      <td>1.4 Comfortline</td>\n",
       "      <td>2013</td>\n",
       "      <td>LPG &amp; Benzin</td>\n",
       "      <td>Düz</td>\n",
       "      <td>1390 cc</td>\n",
       "      <td>85 hp</td>\n",
       "      <td>127.000 km</td>\n",
       "      <td>https://www.arabam.com//ilan/galeriden-satilik...</td>\n",
       "      <td>122.500 TL</td>\n",
       "    </tr>\n",
       "    <tr>\n",
       "      <th>2</th>\n",
       "      <td>2</td>\n",
       "      <td>15788492</td>\n",
       "      <td>22 Aralık 2020</td>\n",
       "      <td>Chevrolet</td>\n",
       "      <td>Cruze</td>\n",
       "      <td>1.6 LS</td>\n",
       "      <td>2009</td>\n",
       "      <td>LPG &amp; Benzin</td>\n",
       "      <td>Düz</td>\n",
       "      <td>1598 cc</td>\n",
       "      <td>113 hp</td>\n",
       "      <td>226.000 km</td>\n",
       "      <td>https://www.arabam.com//ilan/galeriden-satilik...</td>\n",
       "      <td>85.000 TL</td>\n",
       "    </tr>\n",
       "    <tr>\n",
       "      <th>3</th>\n",
       "      <td>3</td>\n",
       "      <td>16250683</td>\n",
       "      <td>22 Aralık 2020</td>\n",
       "      <td>Renault</td>\n",
       "      <td>Megane</td>\n",
       "      <td>1.5 dCi Touch</td>\n",
       "      <td>2020</td>\n",
       "      <td>Dizel</td>\n",
       "      <td>Yarı Otomatik</td>\n",
       "      <td>1461 cc</td>\n",
       "      <td>115 hp</td>\n",
       "      <td>0 km</td>\n",
       "      <td>https://www.arabam.com//ilan/galeriden-satilik...</td>\n",
       "      <td>277.000 TL</td>\n",
       "    </tr>\n",
       "    <tr>\n",
       "      <th>4</th>\n",
       "      <td>4</td>\n",
       "      <td>16250505</td>\n",
       "      <td>22 Aralık 2020</td>\n",
       "      <td>Volkswagen</td>\n",
       "      <td>VW CC</td>\n",
       "      <td>1.4 TSi</td>\n",
       "      <td>2013</td>\n",
       "      <td>Benzin</td>\n",
       "      <td>Yarı Otomatik</td>\n",
       "      <td>1390 cc</td>\n",
       "      <td>160 hp</td>\n",
       "      <td>49.000 km</td>\n",
       "      <td>https://www.arabam.com//ilan/galeriden-satilik...</td>\n",
       "      <td>192.500 TL</td>\n",
       "    </tr>\n",
       "    <tr>\n",
       "      <th>5</th>\n",
       "      <td>5</td>\n",
       "      <td>15793297</td>\n",
       "      <td>22 Aralık 2020</td>\n",
       "      <td>Renault</td>\n",
       "      <td>Clio</td>\n",
       "      <td>1.5 dCi Touch</td>\n",
       "      <td>2017</td>\n",
       "      <td>Dizel</td>\n",
       "      <td>Yarı Otomatik</td>\n",
       "      <td>1461 cc</td>\n",
       "      <td>90 hp</td>\n",
       "      <td>80.000 km</td>\n",
       "      <td>https://www.arabam.com//ilan/galeriden-satilik...</td>\n",
       "      <td>154.900 TL</td>\n",
       "    </tr>\n",
       "    <tr>\n",
       "      <th>6</th>\n",
       "      <td>6</td>\n",
       "      <td>16249278</td>\n",
       "      <td>22 Aralık 2020</td>\n",
       "      <td>Fiat</td>\n",
       "      <td>Linea</td>\n",
       "      <td>1.3 Multijet Active Plus</td>\n",
       "      <td>2011</td>\n",
       "      <td>Dizel</td>\n",
       "      <td>Düz</td>\n",
       "      <td>1248 cc</td>\n",
       "      <td>90 hp</td>\n",
       "      <td>109.900 km</td>\n",
       "      <td>https://www.arabam.com//ilan/sahibinden-satili...</td>\n",
       "      <td>85.000 TL</td>\n",
       "    </tr>\n",
       "    <tr>\n",
       "      <th>7</th>\n",
       "      <td>7</td>\n",
       "      <td>16248951</td>\n",
       "      <td>22 Aralık 2020</td>\n",
       "      <td>Seat</td>\n",
       "      <td>Ibiza</td>\n",
       "      <td>1.0 EcoTSI Style</td>\n",
       "      <td>2017</td>\n",
       "      <td>Benzin</td>\n",
       "      <td>Düz</td>\n",
       "      <td>999 cc</td>\n",
       "      <td>95 hp</td>\n",
       "      <td>37.500 km</td>\n",
       "      <td>https://www.arabam.com//ilan/sahibinden-satili...</td>\n",
       "      <td>155.000 TL</td>\n",
       "    </tr>\n",
       "    <tr>\n",
       "      <th>8</th>\n",
       "      <td>8</td>\n",
       "      <td>15293099</td>\n",
       "      <td>22 Aralık 2020</td>\n",
       "      <td>Volkswagen</td>\n",
       "      <td>Passat</td>\n",
       "      <td>1.6 TDi BlueMotion Highline</td>\n",
       "      <td>2015</td>\n",
       "      <td>Dizel</td>\n",
       "      <td>Yarı Otomatik</td>\n",
       "      <td>1598 cc</td>\n",
       "      <td>120 hp</td>\n",
       "      <td>113.000 km</td>\n",
       "      <td>https://www.arabam.com//ilan/galeriden-satilik...</td>\n",
       "      <td>365.000 TL</td>\n",
       "    </tr>\n",
       "    <tr>\n",
       "      <th>9</th>\n",
       "      <td>9</td>\n",
       "      <td>16097555</td>\n",
       "      <td>22 Aralık 2020</td>\n",
       "      <td>Volkswagen</td>\n",
       "      <td>Jetta</td>\n",
       "      <td>1.6 TDi Comfortline</td>\n",
       "      <td>2011</td>\n",
       "      <td>Dizel</td>\n",
       "      <td>Yarı Otomatik</td>\n",
       "      <td>1598 cc</td>\n",
       "      <td>105 hp</td>\n",
       "      <td>188.000 km</td>\n",
       "      <td>https://www.arabam.com//ilan/galeriden-satilik...</td>\n",
       "      <td>151.500 TL</td>\n",
       "    </tr>\n",
       "  </tbody>\n",
       "</table>\n",
       "</div>"
      ],
      "text/plain": [
       "  _c0      İlan No:        İlan Tarihi:          Marka:               Seri:  \\\n",
       "0   0   16251517      23 Aralık 2020      Volkswagen      Passat Variant      \n",
       "1   1   15943402      22 Aralık 2020      Volkswagen                Polo      \n",
       "2   2   15788492      22 Aralık 2020       Chevrolet               Cruze      \n",
       "3   3   16250683      22 Aralık 2020         Renault              Megane      \n",
       "4   4   16250505      22 Aralık 2020      Volkswagen               VW CC      \n",
       "5   5   15793297      22 Aralık 2020         Renault                Clio      \n",
       "6   6   16249278      22 Aralık 2020            Fiat               Linea      \n",
       "7   7   16248951      22 Aralık 2020            Seat               Ibiza      \n",
       "8   8   15293099      22 Aralık 2020      Volkswagen              Passat      \n",
       "9   9   16097555      22 Aralık 2020      Volkswagen               Jetta      \n",
       "\n",
       "                               Model:      Yıl:       Yakıt Tipi:  \\\n",
       "0   1.6 TDi BlueMotion Comfortline      2012             Dizel      \n",
       "1                  1.4 Comfortline      2013      LPG & Benzin      \n",
       "2                           1.6 LS      2009      LPG & Benzin      \n",
       "3                    1.5 dCi Touch      2020             Dizel      \n",
       "4                          1.4 TSi      2013            Benzin      \n",
       "5                    1.5 dCi Touch      2017             Dizel      \n",
       "6         1.3 Multijet Active Plus      2011             Dizel      \n",
       "7                 1.0 EcoTSI Style      2017            Benzin      \n",
       "8      1.6 TDi BlueMotion Highline      2015             Dizel      \n",
       "9              1.6 TDi Comfortline      2011             Dizel      \n",
       "\n",
       "         Vites Tipi: Motor Hacmi: Motor Gücü:      Kilometre:  \\\n",
       "0   Yarı Otomatik      1598 cc      105 hp       70.000 km      \n",
       "1             Düz      1390 cc       85 hp      127.000 km      \n",
       "2             Düz      1598 cc      113 hp      226.000 km      \n",
       "3   Yarı Otomatik      1461 cc      115 hp            0 km      \n",
       "4   Yarı Otomatik      1390 cc      160 hp       49.000 km      \n",
       "5   Yarı Otomatik      1461 cc       90 hp       80.000 km      \n",
       "6             Düz      1248 cc       90 hp      109.900 km      \n",
       "7             Düz       999 cc       95 hp       37.500 km      \n",
       "8   Yarı Otomatik      1598 cc      120 hp      113.000 km      \n",
       "9   Yarı Otomatik      1598 cc      105 hp      188.000 km      \n",
       "\n",
       "                                           car_link:           price  \n",
       "0  https://www.arabam.com//ilan/sahibinden-satili...    200.000 TL    \n",
       "1  https://www.arabam.com//ilan/galeriden-satilik...    122.500 TL    \n",
       "2  https://www.arabam.com//ilan/galeriden-satilik...     85.000 TL    \n",
       "3  https://www.arabam.com//ilan/galeriden-satilik...    277.000 TL    \n",
       "4  https://www.arabam.com//ilan/galeriden-satilik...    192.500 TL    \n",
       "5  https://www.arabam.com//ilan/galeriden-satilik...    154.900 TL    \n",
       "6  https://www.arabam.com//ilan/sahibinden-satili...     85.000 TL    \n",
       "7  https://www.arabam.com//ilan/sahibinden-satili...    155.000 TL    \n",
       "8  https://www.arabam.com//ilan/galeriden-satilik...    365.000 TL    \n",
       "9  https://www.arabam.com//ilan/galeriden-satilik...    151.500 TL    "
      ]
     },
     "execution_count": 82,
     "metadata": {},
     "output_type": "execute_result"
    }
   ],
   "source": [
    "df1.limit(10).toPandas()"
   ]
  },
  {
   "cell_type": "code",
   "execution_count": 83,
   "metadata": {},
   "outputs": [
    {
     "name": "stdout",
     "output_type": "stream",
     "text": [
      "root\n",
      " |-- _c0: string (nullable = true)\n",
      " |-- İlan No:: string (nullable = true)\n",
      " |-- İlan Tarihi:: string (nullable = true)\n",
      " |-- Marka:: string (nullable = true)\n",
      " |-- Seri:: string (nullable = true)\n",
      " |-- Model:: string (nullable = true)\n",
      " |-- Yıl:: string (nullable = true)\n",
      " |-- Yakıt Tipi:: string (nullable = true)\n",
      " |-- Vites Tipi:: string (nullable = true)\n",
      " |-- Motor Hacmi:: string (nullable = true)\n",
      " |-- Motor Gücü:: string (nullable = true)\n",
      " |-- Kilometre:: string (nullable = true)\n",
      " |-- car_link:: string (nullable = true)\n",
      " |-- price: string (nullable = true)\n",
      "\n"
     ]
    }
   ],
   "source": [
    "df1.printSchema()"
   ]
  },
  {
   "cell_type": "code",
   "execution_count": 84,
   "metadata": {
    "scrolled": true
   },
   "outputs": [
    {
     "data": {
      "text/plain": [
       "['_c0',\n",
       " 'İlan No:',\n",
       " 'İlan Tarihi:',\n",
       " 'Marka:',\n",
       " 'Seri:',\n",
       " 'Model:',\n",
       " 'Yıl:',\n",
       " 'Yakıt Tipi:',\n",
       " 'Vites Tipi:',\n",
       " 'Motor Hacmi:',\n",
       " 'Motor Gücü:',\n",
       " 'Kilometre:',\n",
       " 'car_link:',\n",
       " 'price']"
      ]
     },
     "execution_count": 84,
     "metadata": {},
     "output_type": "execute_result"
    }
   ],
   "source": [
    "df1.columns"
   ]
  },
  {
   "cell_type": "code",
   "execution_count": 85,
   "metadata": {},
   "outputs": [],
   "source": [
    "for col in df1.columns:\n",
    "    df1 = df1.withColumn(col, F.ltrim(F.rtrim(df1[col])))"
   ]
  },
  {
   "cell_type": "code",
   "execution_count": 86,
   "metadata": {},
   "outputs": [],
   "source": [
    "df2 =df1.withColumn(\"motor_hacmi\",F.split('Motor Hacmi:',\"-\")[0]) \\\n",
    ".withColumn(\"price\",F.split(\"price\",\" \")[0]) \\\n",
    ".withColumn(\"kilometre\",F.split(\"Kilometre:\",\" \")[0]) \\\n",
    ".drop(F.col('Motor Hacmi:')) \n",
    "\n",
    " \n"
   ]
  },
  {
   "cell_type": "code",
   "execution_count": 87,
   "metadata": {},
   "outputs": [],
   "source": [
    "df2=df2.dropna(how=\"any\")"
   ]
  },
  {
   "cell_type": "code",
   "execution_count": 88,
   "metadata": {},
   "outputs": [],
   "source": [
    "#.withColumn(\"price\",F.split(\"price\",\".\")[0:2]) \\\n",
    "#.withColumn(\"kilometre\",F.split(\"Kilometre:\",\".\")[0:2]) \\"
   ]
  },
  {
   "cell_type": "code",
   "execution_count": 89,
   "metadata": {},
   "outputs": [],
   "source": [
    "df3 =df2.withColumn(\"motor_hacmi\",F.split(\"motor_hacmi\",\" \")[0]) \\\n",
    ".withColumn(\"motor_gucu\",F.split(\"Motor Gücü:\",\" \")[0]) \\\n",
    ".withColumn(\"marka\",F.concat(F.col(\"Marka:\"),F.lit('_'),F.col(\"Seri:\"))) \\\n",
    ".drop(F.col(\"Motor Gücü:\")) \\\n",
    ".drop(F.col(\"Marka:\")) \\\n",
    ".drop(F.col(\"Seri:\")) \\\n",
    ".drop(F.col(\"_c0\")) \\\n",
    ".drop(F.col(\"İlan Tarihi:\"))"
   ]
  },
  {
   "cell_type": "code",
   "execution_count": 90,
   "metadata": {},
   "outputs": [
    {
     "data": {
      "text/html": [
       "<div>\n",
       "<style scoped>\n",
       "    .dataframe tbody tr th:only-of-type {\n",
       "        vertical-align: middle;\n",
       "    }\n",
       "\n",
       "    .dataframe tbody tr th {\n",
       "        vertical-align: top;\n",
       "    }\n",
       "\n",
       "    .dataframe thead th {\n",
       "        text-align: right;\n",
       "    }\n",
       "</style>\n",
       "<table border=\"1\" class=\"dataframe\">\n",
       "  <thead>\n",
       "    <tr style=\"text-align: right;\">\n",
       "      <th></th>\n",
       "      <th>İlan No:</th>\n",
       "      <th>Model:</th>\n",
       "      <th>Yıl:</th>\n",
       "      <th>Yakıt Tipi:</th>\n",
       "      <th>Vites Tipi:</th>\n",
       "      <th>Kilometre:</th>\n",
       "      <th>car_link:</th>\n",
       "      <th>price</th>\n",
       "      <th>motor_hacmi</th>\n",
       "      <th>kilometre</th>\n",
       "      <th>motor_gucu</th>\n",
       "      <th>marka</th>\n",
       "    </tr>\n",
       "  </thead>\n",
       "  <tbody>\n",
       "    <tr>\n",
       "      <th>0</th>\n",
       "      <td>16251517</td>\n",
       "      <td>1.6 TDi BlueMotion Comfortline</td>\n",
       "      <td>2012</td>\n",
       "      <td>Dizel</td>\n",
       "      <td>Yarı Otomatik</td>\n",
       "      <td>70.000 km</td>\n",
       "      <td>https://www.arabam.com//ilan/sahibinden-satili...</td>\n",
       "      <td>200.000</td>\n",
       "      <td>1598</td>\n",
       "      <td>70.000</td>\n",
       "      <td>105</td>\n",
       "      <td>Volkswagen_Passat Variant</td>\n",
       "    </tr>\n",
       "    <tr>\n",
       "      <th>1</th>\n",
       "      <td>15943402</td>\n",
       "      <td>1.4 Comfortline</td>\n",
       "      <td>2013</td>\n",
       "      <td>LPG &amp; Benzin</td>\n",
       "      <td>Düz</td>\n",
       "      <td>127.000 km</td>\n",
       "      <td>https://www.arabam.com//ilan/galeriden-satilik...</td>\n",
       "      <td>122.500</td>\n",
       "      <td>1390</td>\n",
       "      <td>127.000</td>\n",
       "      <td>85</td>\n",
       "      <td>Volkswagen_Polo</td>\n",
       "    </tr>\n",
       "  </tbody>\n",
       "</table>\n",
       "</div>"
      ],
      "text/plain": [
       "   İlan No:                          Model:  Yıl:   Yakıt Tipi:  \\\n",
       "0  16251517  1.6 TDi BlueMotion Comfortline  2012         Dizel   \n",
       "1  15943402                 1.4 Comfortline  2013  LPG & Benzin   \n",
       "\n",
       "     Vites Tipi:  Kilometre:  \\\n",
       "0  Yarı Otomatik   70.000 km   \n",
       "1            Düz  127.000 km   \n",
       "\n",
       "                                           car_link:    price motor_hacmi  \\\n",
       "0  https://www.arabam.com//ilan/sahibinden-satili...  200.000        1598   \n",
       "1  https://www.arabam.com//ilan/galeriden-satilik...  122.500        1390   \n",
       "\n",
       "  kilometre motor_gucu                      marka  \n",
       "0    70.000        105  Volkswagen_Passat Variant  \n",
       "1   127.000         85            Volkswagen_Polo  "
      ]
     },
     "execution_count": 90,
     "metadata": {},
     "output_type": "execute_result"
    }
   ],
   "source": [
    "df3.limit(2).toPandas()"
   ]
  },
  {
   "cell_type": "code",
   "execution_count": 91,
   "metadata": {},
   "outputs": [],
   "source": [
    "df4=df3.withColumn(\"price1\",F.split(F.col(\"price\"),\"\\.\").getItem(0)) \\\n",
    ".withColumn(\"price2\",F.split(F.col(\"price\"),\"\\.\").getItem(1)) \\\n",
    ".withColumn(\"price\",F.concat(F.col(\"price1\"),F.col(\"price2\")))"
   ]
  },
  {
   "cell_type": "code",
   "execution_count": 92,
   "metadata": {},
   "outputs": [],
   "source": [
    "df5=df4.withColumn(\"km1\",F.split(F.col(\"kilometre\"),\"\\.\").getItem(0)) \\\n",
    ".withColumn(\"km2\",F.split(F.col(\"kilometre\"),\"\\.\").getItem(1)) \\\n",
    ".withColumn(\"km\",F.concat(F.col(\"km1\"),F.col(\"km2\")))"
   ]
  },
  {
   "cell_type": "code",
   "execution_count": 93,
   "metadata": {},
   "outputs": [],
   "source": [
    "df6=df5.drop(F.col(\"km1\")) \\\n",
    ".drop(F.col(\"km2\")) \\\n",
    ".drop(F.col(\"price1\")) \\\n",
    ".drop(F.col(\"price2\"))"
   ]
  },
  {
   "cell_type": "code",
   "execution_count": 95,
   "metadata": {},
   "outputs": [
    {
     "data": {
      "text/html": [
       "<div>\n",
       "<style scoped>\n",
       "    .dataframe tbody tr th:only-of-type {\n",
       "        vertical-align: middle;\n",
       "    }\n",
       "\n",
       "    .dataframe tbody tr th {\n",
       "        vertical-align: top;\n",
       "    }\n",
       "\n",
       "    .dataframe thead th {\n",
       "        text-align: right;\n",
       "    }\n",
       "</style>\n",
       "<table border=\"1\" class=\"dataframe\">\n",
       "  <thead>\n",
       "    <tr style=\"text-align: right;\">\n",
       "      <th></th>\n",
       "      <th>İlan No:</th>\n",
       "      <th>Model:</th>\n",
       "      <th>Yıl:</th>\n",
       "      <th>Yakıt Tipi:</th>\n",
       "      <th>Vites Tipi:</th>\n",
       "      <th>Kilometre:</th>\n",
       "      <th>car_link:</th>\n",
       "      <th>price</th>\n",
       "      <th>motor_hacmi</th>\n",
       "      <th>kilometre</th>\n",
       "      <th>motor_gucu</th>\n",
       "      <th>marka</th>\n",
       "      <th>km</th>\n",
       "    </tr>\n",
       "  </thead>\n",
       "  <tbody>\n",
       "    <tr>\n",
       "      <th>0</th>\n",
       "      <td>16251517</td>\n",
       "      <td>1.6 TDi BlueMotion Comfortline</td>\n",
       "      <td>2012</td>\n",
       "      <td>Dizel</td>\n",
       "      <td>Yarı Otomatik</td>\n",
       "      <td>70.000 km</td>\n",
       "      <td>https://www.arabam.com//ilan/sahibinden-satili...</td>\n",
       "      <td>200000</td>\n",
       "      <td>1598</td>\n",
       "      <td>70.000</td>\n",
       "      <td>105</td>\n",
       "      <td>Volkswagen_Passat Variant</td>\n",
       "      <td>70000</td>\n",
       "    </tr>\n",
       "    <tr>\n",
       "      <th>1</th>\n",
       "      <td>15943402</td>\n",
       "      <td>1.4 Comfortline</td>\n",
       "      <td>2013</td>\n",
       "      <td>LPG &amp; Benzin</td>\n",
       "      <td>Düz</td>\n",
       "      <td>127.000 km</td>\n",
       "      <td>https://www.arabam.com//ilan/galeriden-satilik...</td>\n",
       "      <td>122500</td>\n",
       "      <td>1390</td>\n",
       "      <td>127.000</td>\n",
       "      <td>85</td>\n",
       "      <td>Volkswagen_Polo</td>\n",
       "      <td>127000</td>\n",
       "    </tr>\n",
       "  </tbody>\n",
       "</table>\n",
       "</div>"
      ],
      "text/plain": [
       "   İlan No:                          Model:  Yıl:   Yakıt Tipi:  \\\n",
       "0  16251517  1.6 TDi BlueMotion Comfortline  2012         Dizel   \n",
       "1  15943402                 1.4 Comfortline  2013  LPG & Benzin   \n",
       "\n",
       "     Vites Tipi:  Kilometre:  \\\n",
       "0  Yarı Otomatik   70.000 km   \n",
       "1            Düz  127.000 km   \n",
       "\n",
       "                                           car_link:   price motor_hacmi  \\\n",
       "0  https://www.arabam.com//ilan/sahibinden-satili...  200000        1598   \n",
       "1  https://www.arabam.com//ilan/galeriden-satilik...  122500        1390   \n",
       "\n",
       "  kilometre motor_gucu                      marka      km  \n",
       "0    70.000        105  Volkswagen_Passat Variant   70000  \n",
       "1   127.000         85            Volkswagen_Polo  127000  "
      ]
     },
     "execution_count": 95,
     "metadata": {},
     "output_type": "execute_result"
    }
   ],
   "source": [
    "df6.limit(2).toPandas()"
   ]
  },
  {
   "cell_type": "code",
   "execution_count": 96,
   "metadata": {},
   "outputs": [
    {
     "name": "stdout",
     "output_type": "stream",
     "text": [
      "root\n",
      " |-- İlan No:: string (nullable = true)\n",
      " |-- Model:: string (nullable = true)\n",
      " |-- Yıl:: string (nullable = true)\n",
      " |-- Yakıt Tipi:: string (nullable = true)\n",
      " |-- Vites Tipi:: string (nullable = true)\n",
      " |-- Kilometre:: string (nullable = true)\n",
      " |-- car_link:: string (nullable = true)\n",
      " |-- price: string (nullable = true)\n",
      " |-- motor_hacmi: string (nullable = true)\n",
      " |-- kilometre: string (nullable = true)\n",
      " |-- motor_gucu: string (nullable = true)\n",
      " |-- marka: string (nullable = true)\n",
      " |-- km: string (nullable = true)\n",
      "\n"
     ]
    }
   ],
   "source": [
    "df6.printSchema()"
   ]
  },
  {
   "cell_type": "code",
   "execution_count": 97,
   "metadata": {},
   "outputs": [],
   "source": [
    "df7=df6.select(\n",
    "F.col('Yıl:').cast(\"int\"),\n",
    "F.col('Yakıt Tipi:'),\n",
    "F.col('Vites Tipi:'),\n",
    "F.col('motor_hacmi').cast(\"int\"),\n",
    "F.col('motor_gucu').cast(\"int\"),\n",
    "F.col('km').cast(\"int\"),\n",
    "F.col('marka'),\n",
    "F.col('Model:'),\n",
    "F.col(\"price\").cast(\"int\"),\n",
    "F.col(\"car_link:\"))"
   ]
  },
  {
   "cell_type": "code",
   "execution_count": 98,
   "metadata": {},
   "outputs": [
    {
     "name": "stdout",
     "output_type": "stream",
     "text": [
      "root\n",
      " |-- Yıl:: integer (nullable = true)\n",
      " |-- Yakıt Tipi:: string (nullable = true)\n",
      " |-- Vites Tipi:: string (nullable = true)\n",
      " |-- motor_hacmi: integer (nullable = true)\n",
      " |-- motor_gucu: integer (nullable = true)\n",
      " |-- km: integer (nullable = true)\n",
      " |-- marka: string (nullable = true)\n",
      " |-- Model:: string (nullable = true)\n",
      " |-- price: integer (nullable = true)\n",
      " |-- car_link:: string (nullable = true)\n",
      "\n"
     ]
    }
   ],
   "source": [
    "df7.printSchema()"
   ]
  },
  {
   "cell_type": "code",
   "execution_count": 99,
   "metadata": {},
   "outputs": [
    {
     "data": {
      "text/html": [
       "<div>\n",
       "<style scoped>\n",
       "    .dataframe tbody tr th:only-of-type {\n",
       "        vertical-align: middle;\n",
       "    }\n",
       "\n",
       "    .dataframe tbody tr th {\n",
       "        vertical-align: top;\n",
       "    }\n",
       "\n",
       "    .dataframe thead th {\n",
       "        text-align: right;\n",
       "    }\n",
       "</style>\n",
       "<table border=\"1\" class=\"dataframe\">\n",
       "  <thead>\n",
       "    <tr style=\"text-align: right;\">\n",
       "      <th></th>\n",
       "      <th>Yıl:</th>\n",
       "      <th>Yakıt Tipi:</th>\n",
       "      <th>Vites Tipi:</th>\n",
       "      <th>motor_hacmi</th>\n",
       "      <th>motor_gucu</th>\n",
       "      <th>km</th>\n",
       "      <th>marka</th>\n",
       "      <th>Model:</th>\n",
       "      <th>price</th>\n",
       "      <th>car_link:</th>\n",
       "    </tr>\n",
       "  </thead>\n",
       "  <tbody>\n",
       "    <tr>\n",
       "      <th>0</th>\n",
       "      <td>2012</td>\n",
       "      <td>Dizel</td>\n",
       "      <td>Yarı Otomatik</td>\n",
       "      <td>1598</td>\n",
       "      <td>105</td>\n",
       "      <td>70000</td>\n",
       "      <td>Volkswagen_Passat Variant</td>\n",
       "      <td>1.6 TDi BlueMotion Comfortline</td>\n",
       "      <td>200000</td>\n",
       "      <td>https://www.arabam.com//ilan/sahibinden-satili...</td>\n",
       "    </tr>\n",
       "    <tr>\n",
       "      <th>1</th>\n",
       "      <td>2013</td>\n",
       "      <td>LPG &amp; Benzin</td>\n",
       "      <td>Düz</td>\n",
       "      <td>1390</td>\n",
       "      <td>85</td>\n",
       "      <td>127000</td>\n",
       "      <td>Volkswagen_Polo</td>\n",
       "      <td>1.4 Comfortline</td>\n",
       "      <td>122500</td>\n",
       "      <td>https://www.arabam.com//ilan/galeriden-satilik...</td>\n",
       "    </tr>\n",
       "    <tr>\n",
       "      <th>2</th>\n",
       "      <td>2009</td>\n",
       "      <td>LPG &amp; Benzin</td>\n",
       "      <td>Düz</td>\n",
       "      <td>1598</td>\n",
       "      <td>113</td>\n",
       "      <td>226000</td>\n",
       "      <td>Chevrolet_Cruze</td>\n",
       "      <td>1.6 LS</td>\n",
       "      <td>85000</td>\n",
       "      <td>https://www.arabam.com//ilan/galeriden-satilik...</td>\n",
       "    </tr>\n",
       "  </tbody>\n",
       "</table>\n",
       "</div>"
      ],
      "text/plain": [
       "   Yıl:   Yakıt Tipi:    Vites Tipi:  motor_hacmi  motor_gucu      km  \\\n",
       "0  2012         Dizel  Yarı Otomatik         1598         105   70000   \n",
       "1  2013  LPG & Benzin            Düz         1390          85  127000   \n",
       "2  2009  LPG & Benzin            Düz         1598         113  226000   \n",
       "\n",
       "                       marka                          Model:   price  \\\n",
       "0  Volkswagen_Passat Variant  1.6 TDi BlueMotion Comfortline  200000   \n",
       "1            Volkswagen_Polo                 1.4 Comfortline  122500   \n",
       "2            Chevrolet_Cruze                          1.6 LS   85000   \n",
       "\n",
       "                                           car_link:  \n",
       "0  https://www.arabam.com//ilan/sahibinden-satili...  \n",
       "1  https://www.arabam.com//ilan/galeriden-satilik...  \n",
       "2  https://www.arabam.com//ilan/galeriden-satilik...  "
      ]
     },
     "execution_count": 99,
     "metadata": {},
     "output_type": "execute_result"
    }
   ],
   "source": [
    "df7.limit(3).toPandas()"
   ]
  },
  {
   "cell_type": "code",
   "execution_count": 102,
   "metadata": {},
   "outputs": [
    {
     "name": "stdout",
     "output_type": "stream",
     "text": [
      "motor_hacmi int type has 3 null values\n",
      "motor_gucu int type has 3 null values\n",
      "km int type has 27 null values\n"
     ]
    }
   ],
   "source": [
    "# Null check\n",
    "for(col_name, col_type) in zip(df7.columns, df7.dtypes):\n",
    "    null_count = df7.filter( (F.col(col_name).isNull()) | (F.col(col_name) == \"\")).count()\n",
    "    if(  null_count > 0 ):\n",
    "        print(\"{} {} type has {} null values\".format(col_name, col_type[1], null_count))"
   ]
  },
  {
   "cell_type": "code",
   "execution_count": 103,
   "metadata": {},
   "outputs": [],
   "source": [
    "df8=df7.dropna(how=\"any\")"
   ]
  },
  {
   "cell_type": "code",
   "execution_count": 104,
   "metadata": {},
   "outputs": [],
   "source": [
    "\n",
    "categoric_cols = []\n",
    "numeric_cols = []\n",
    "discarted_cols = []\n",
    "label_col = []"
   ]
  },
  {
   "cell_type": "code",
   "execution_count": 105,
   "metadata": {},
   "outputs": [],
   "source": [
    "# column seperation\n",
    "for col_name in df8.dtypes:\n",
    "    if (col_name[0] not in []):\n",
    "        if (col_name[1] == 'string'):\n",
    "            categoric_cols.append(col_name[0])\n",
    "        else: numeric_cols.append(col_name[0])"
   ]
  },
  {
   "cell_type": "code",
   "execution_count": 106,
   "metadata": {},
   "outputs": [
    {
     "name": "stdout",
     "output_type": "stream",
     "text": [
      "+------------+----------+\n",
      "| Yakıt Tipi:|TotalCount|\n",
      "+------------+----------+\n",
      "|       Dizel|       485|\n",
      "|LPG & Benzin|       234|\n",
      "|      Benzin|       196|\n",
      "|      Hibrit|         1|\n",
      "+------------+----------+\n",
      "\n",
      "+-------------+----------+\n",
      "|  Vites Tipi:|TotalCount|\n",
      "+-------------+----------+\n",
      "|          Düz|       535|\n",
      "|Yarı Otomatik|       221|\n",
      "|     Otomatik|       160|\n",
      "+-------------+----------+\n",
      "\n",
      "+-----------------+----------+\n",
      "|            marka|TotalCount|\n",
      "+-----------------+----------+\n",
      "|       Opel_Astra|        42|\n",
      "|       Ford_Focus|        41|\n",
      "|     Renault_Clio|        40|\n",
      "|Volkswagen_Passat|        40|\n",
      "|   Toyota_Corolla|        37|\n",
      "|   Renault_Megane|        36|\n",
      "|      Honda_Civic|        32|\n",
      "| Volkswagen_Jetta|        31|\n",
      "|  Volkswagen_Golf|        30|\n",
      "|  Renault_Fluence|        29|\n",
      "|   Renault_Symbol|        25|\n",
      "|  Volkswagen_Polo|        24|\n",
      "|        Fiat_Egea|        22|\n",
      "|       Fiat_Linea|        21|\n",
      "|     BMW_3 Serisi|        20|\n",
      "|       Opel_Corsa|        17|\n",
      "|Mercedes - Benz_C|        17|\n",
      "|      Ford_Fiesta|        17|\n",
      "|      Hyundai_i20|        15|\n",
      "|    Skoda_Octavia|        13|\n",
      "+-----------------+----------+\n",
      "only showing top 20 rows\n",
      "\n",
      "+--------------------+----------+\n",
      "|              Model:|TotalCount|\n",
      "+--------------------+----------+\n",
      "|       1.5 dCi Touch|        23|\n",
      "|         1.5 dCi Joy|        22|\n",
      "|1.6 TDi BlueMotio...|        19|\n",
      "|1.6 i-VTEC ECO El...|        14|\n",
      "|        1.5 dCi Icon|        13|\n",
      "| 1.6 TDi Comfortline|        13|\n",
      "|    1.3 Multijet Pop|        11|\n",
      "|   1.3 Multijet Easy|        10|\n",
      "|1.6 TDi BlueMotio...|        10|\n",
      "| 1.5 dCi Authentique|        10|\n",
      "|   1.6 TDCi Titanium|         9|\n",
      "|      1.6 HDi Active|         8|\n",
      "|    1.6 TDCi Trend X|         8|\n",
      "|  1.5 dCi Touch Plus|         8|\n",
      "|      1.6 TDCi Trend|         7|\n",
      "|         1.6 Comfort|         7|\n",
      "|       1.6 Dynamique|         7|\n",
      "|  1.3 Multijet Urban|         6|\n",
      "|                 SLX|         6|\n",
      "|    A4 Sedan 2.0 TDI|         6|\n",
      "+--------------------+----------+\n",
      "only showing top 20 rows\n",
      "\n",
      "+--------------------+----------+\n",
      "|           car_link:|TotalCount|\n",
      "+--------------------+----------+\n",
      "|https://www.araba...|         1|\n",
      "|https://www.araba...|         1|\n",
      "|https://www.araba...|         1|\n",
      "|https://www.araba...|         1|\n",
      "|https://www.araba...|         1|\n",
      "|https://www.araba...|         1|\n",
      "|https://www.araba...|         1|\n",
      "|https://www.araba...|         1|\n",
      "|https://www.araba...|         1|\n",
      "|https://www.araba...|         1|\n",
      "|https://www.araba...|         1|\n",
      "|https://www.araba...|         1|\n",
      "|https://www.araba...|         1|\n",
      "|https://www.araba...|         1|\n",
      "|https://www.araba...|         1|\n",
      "|https://www.araba...|         1|\n",
      "|https://www.araba...|         1|\n",
      "|https://www.araba...|         1|\n",
      "|https://www.araba...|         1|\n",
      "|https://www.araba...|         1|\n",
      "+--------------------+----------+\n",
      "only showing top 20 rows\n",
      "\n"
     ]
    }
   ],
   "source": [
    "for col_name in categoric_cols:\n",
    "    df8.groupBy(col_name).agg(F.count(\"*\").alias(\"TotalCount\")).orderBy(F.desc(\"TotalCount\")).show()"
   ]
  },
  {
   "cell_type": "code",
   "execution_count": 107,
   "metadata": {},
   "outputs": [
    {
     "data": {
      "text/plain": [
       "['Yıl:',\n",
       " 'Yakıt Tipi:',\n",
       " 'Vites Tipi:',\n",
       " 'motor_hacmi',\n",
       " 'motor_gucu',\n",
       " 'km',\n",
       " 'marka',\n",
       " 'Model:',\n",
       " 'price',\n",
       " 'car_link:']"
      ]
     },
     "execution_count": 107,
     "metadata": {},
     "output_type": "execute_result"
    }
   ],
   "source": [
    "df8.columns"
   ]
  },
  {
   "cell_type": "code",
   "execution_count": 108,
   "metadata": {},
   "outputs": [],
   "source": [
    "\n",
    "# column seperation after analysis\n",
    "categoric_cols = []\n",
    "numeric_cols = []\n",
    "# Why we discard these? Because they have high cardinality. In other words they have too many distinct categories\n",
    "# Adding them to model will not do good if not too bad.\n",
    "discarted_cols = ['car_link:']\n",
    "label_col = ['price']"
   ]
  },
  {
   "cell_type": "code",
   "execution_count": 109,
   "metadata": {},
   "outputs": [],
   "source": [
    "\n",
    "for col_name in df8.dtypes:\n",
    "    if (col_name[0] not in discarted_cols+label_col):\n",
    "        if (col_name[1] == 'string'):\n",
    "            categoric_cols.append(col_name[0])\n",
    "        else: numeric_cols.append(col_name[0])"
   ]
  },
  {
   "cell_type": "code",
   "execution_count": 110,
   "metadata": {},
   "outputs": [
    {
     "name": "stdout",
     "output_type": "stream",
     "text": [
      "Yakıt Tipi: has 4 distinct category.\n",
      "Vites Tipi: has 3 distinct category.\n",
      "marka has 135 distinct category.\n",
      "Model: has 476 distinct category.\n"
     ]
    }
   ],
   "source": [
    "# Here we count the distinct categories in categoric columns. If there is more than two,\n",
    "# we will add those to to_be_onehotencoded_cols list If there is just 2 we don't need to use onehotencoder\n",
    "# So if distinct category gt 2 we have to add it to_be_onehotencoded_cols list\n",
    "to_be_onehotencoded_cols = []\n",
    "\n",
    "for col_name in categoric_cols:\n",
    "    count = df8.select(col_name).distinct().count()\n",
    "    if count > 2:\n",
    "        to_be_onehotencoded_cols.append(col_name)\n",
    "    print(\"{} has {} distinct category.\".format(col_name, count))\n",
    "    "
   ]
  },
  {
   "cell_type": "code",
   "execution_count": 111,
   "metadata": {},
   "outputs": [
    {
     "name": "stdout",
     "output_type": "stream",
     "text": [
      "['Yakıt Tipi:', 'Vites Tipi:', 'marka', 'Model:']\n"
     ]
    }
   ],
   "source": [
    "print(to_be_onehotencoded_cols)"
   ]
  },
  {
   "cell_type": "markdown",
   "metadata": {},
   "source": [
    "# StringIndexer"
   ]
  },
  {
   "cell_type": "code",
   "execution_count": 112,
   "metadata": {},
   "outputs": [],
   "source": [
    "from pyspark.ml.feature import StringIndexer"
   ]
  },
  {
   "cell_type": "code",
   "execution_count": 113,
   "metadata": {},
   "outputs": [],
   "source": [
    "# Will hold stringIndexer objects and column names\n",
    "my_dict = {}\n",
    "\n",
    "# Will collect StringIndexer ojects\n",
    "string_indexer_objs = []\n",
    "\n",
    "# Will collect StringIndexer output colnames\n",
    "string_indexer_output_names = []\n",
    "\n",
    "# Will collect OneHotEncoder output colnames\n",
    "ohe_col_input_names = []\n",
    "ohe_col_output_names = []\n",
    "\n",
    "for col_name in categoric_cols:\n",
    "    my_dict[col_name+\"_indexobj\"] = StringIndexer() \\\n",
    "    .setHandleInvalid('skip') \\\n",
    "    .setInputCol(col_name) \\\n",
    "    .setOutputCol(col_name+\"_indexed\")\n",
    "    \n",
    "    string_indexer_objs.append(my_dict.get(col_name+\"_indexobj\"))\n",
    "    string_indexer_output_names.append(col_name+\"_indexed\")\n",
    "    if col_name in to_be_onehotencoded_cols:\n",
    "        ohe_col_input_names.append(col_name+\"_indexed\")\n",
    "        ohe_col_output_names.append(col_name+\"_ohe\")"
   ]
  },
  {
   "cell_type": "code",
   "execution_count": 114,
   "metadata": {},
   "outputs": [
    {
     "name": "stdout",
     "output_type": "stream",
     "text": [
      "[StringIndexer_36c5d0038c2d, StringIndexer_cba989c8397f, StringIndexer_c6efff858a69, StringIndexer_8cfc7df688d3]\n",
      "4\n"
     ]
    }
   ],
   "source": [
    "print(string_indexer_objs)\n",
    "print(len(string_indexer_objs))"
   ]
  },
  {
   "cell_type": "code",
   "execution_count": 115,
   "metadata": {},
   "outputs": [
    {
     "name": "stdout",
     "output_type": "stream",
     "text": [
      "['Yakıt Tipi:_indexed', 'Vites Tipi:_indexed', 'marka_indexed', 'Model:_indexed']\n",
      "4\n"
     ]
    }
   ],
   "source": [
    "print(ohe_col_input_names)\n",
    "print(len(ohe_col_input_names))"
   ]
  },
  {
   "cell_type": "code",
   "execution_count": 116,
   "metadata": {},
   "outputs": [
    {
     "name": "stdout",
     "output_type": "stream",
     "text": [
      "['Yakıt Tipi:_indexed', 'Vites Tipi:_indexed', 'marka_indexed', 'Model:_indexed']\n",
      "4\n"
     ]
    }
   ],
   "source": [
    "print(string_indexer_output_names)\n",
    "print(len(string_indexer_output_names))"
   ]
  },
  {
   "cell_type": "markdown",
   "metadata": {},
   "source": [
    "# OnehotEncoder"
   ]
  },
  {
   "cell_type": "code",
   "execution_count": 117,
   "metadata": {},
   "outputs": [],
   "source": [
    "from pyspark.ml.feature import OneHotEncoder"
   ]
  },
  {
   "cell_type": "code",
   "execution_count": 118,
   "metadata": {},
   "outputs": [],
   "source": [
    "encoder = OneHotEncoder() \\\n",
    ".setInputCols(ohe_col_input_names) \\\n",
    ".setOutputCols(ohe_col_output_names)"
   ]
  },
  {
   "cell_type": "code",
   "execution_count": 119,
   "metadata": {},
   "outputs": [],
   "source": [
    "from pyspark.ml.feature import VectorAssembler"
   ]
  },
  {
   "cell_type": "markdown",
   "metadata": {},
   "source": [
    "## VectorAssembler"
   ]
  },
  {
   "cell_type": "code",
   "execution_count": 120,
   "metadata": {},
   "outputs": [
    {
     "data": {
      "text/plain": [
       "[]"
      ]
     },
     "execution_count": 120,
     "metadata": {},
     "output_type": "execute_result"
    }
   ],
   "source": [
    "string_indexer_col_names_ohe_exluded = list(set(string_indexer_output_names).difference(set(ohe_col_input_names)))\n",
    "string_indexer_col_names_ohe_exluded"
   ]
  },
  {
   "cell_type": "code",
   "execution_count": 121,
   "metadata": {},
   "outputs": [
    {
     "name": "stdout",
     "output_type": "stream",
     "text": [
      "Columns verified\n"
     ]
    }
   ],
   "source": [
    "if len(categoric_cols) == (len(string_indexer_col_names_ohe_exluded)+len(ohe_col_output_names)):\n",
    "    print(\"Columns verified\")\n",
    "else: print(\"Columns are not verified\")"
   ]
  },
  {
   "cell_type": "code",
   "execution_count": 122,
   "metadata": {},
   "outputs": [],
   "source": [
    "assembler = VectorAssembler().setHandleInvalid(\"skip\") \\\n",
    ".setInputCols(numeric_cols+string_indexer_col_names_ohe_exluded+ohe_col_output_names) \\\n",
    ".setOutputCol('unscaled_features')"
   ]
  },
  {
   "cell_type": "code",
   "execution_count": 123,
   "metadata": {},
   "outputs": [
    {
     "data": {
      "text/plain": [
       "['price']"
      ]
     },
     "execution_count": 123,
     "metadata": {},
     "output_type": "execute_result"
    }
   ],
   "source": [
    "label_col"
   ]
  },
  {
   "cell_type": "code",
   "execution_count": 124,
   "metadata": {},
   "outputs": [],
   "source": [
    "from pyspark.ml.feature import StandardScaler"
   ]
  },
  {
   "cell_type": "code",
   "execution_count": 125,
   "metadata": {},
   "outputs": [],
   "source": [
    "scaler = StandardScaler().setInputCol(\"unscaled_features\").setOutputCol(\"scaled_features\")"
   ]
  },
  {
   "cell_type": "markdown",
   "metadata": {},
   "source": [
    "## PCA"
   ]
  },
  {
   "cell_type": "code",
   "execution_count": 126,
   "metadata": {},
   "outputs": [],
   "source": [
    "from pyspark.ml.feature import PCA"
   ]
  },
  {
   "cell_type": "code",
   "execution_count": null,
   "metadata": {},
   "outputs": [],
   "source": [
    "#pca = PCA().setInputCol(\"scaled_features\").setK(10).setOutputCol(\"features\")"
   ]
  },
  {
   "cell_type": "markdown",
   "metadata": {},
   "source": [
    "# Estimator: GBTClassifier"
   ]
  },
  {
   "cell_type": "code",
   "execution_count": 128,
   "metadata": {},
   "outputs": [],
   "source": [
    "from pyspark.ml.regression import LinearRegression\n"
   ]
  },
  {
   "cell_type": "code",
   "execution_count": 136,
   "metadata": {},
   "outputs": [],
   "source": [
    "estimator = LinearRegression() \\\n",
    ".setFeaturesCol(\"scaled_features\") \\\n",
    ".setLabelCol(\"price\")"
   ]
  },
  {
   "cell_type": "markdown",
   "metadata": {},
   "source": [
    "## Pipeline"
   ]
  },
  {
   "cell_type": "code",
   "execution_count": 137,
   "metadata": {},
   "outputs": [],
   "source": [
    "from pyspark.ml import Pipeline"
   ]
  },
  {
   "cell_type": "code",
   "execution_count": 138,
   "metadata": {},
   "outputs": [],
   "source": [
    "pipeline_obj = Pipeline().setStages(string_indexer_objs+[encoder, assembler, scaler, estimator])"
   ]
  },
  {
   "cell_type": "markdown",
   "metadata": {},
   "source": [
    "# Split data"
   ]
  },
  {
   "cell_type": "code",
   "execution_count": 144,
   "metadata": {},
   "outputs": [],
   "source": [
    "train_df, test_df = df8.randomSplit([0.05,0.95], seed=142)"
   ]
  },
  {
   "cell_type": "markdown",
   "metadata": {},
   "source": [
    "# Train MoDEL"
   ]
  },
  {
   "cell_type": "code",
   "execution_count": 145,
   "metadata": {},
   "outputs": [],
   "source": [
    "pipeline_model = pipeline_obj.fit(train_df)"
   ]
  },
  {
   "cell_type": "markdown",
   "metadata": {},
   "source": [
    "# Save the model"
   ]
  },
  {
   "cell_type": "code",
   "execution_count": 146,
   "metadata": {},
   "outputs": [],
   "source": [
    "pipeline_model.stages[-1].write().overwrite().save(\"saved_models/arabam\")"
   ]
  },
  {
   "cell_type": "markdown",
   "metadata": {},
   "source": [
    "# Prediction"
   ]
  },
  {
   "cell_type": "code",
   "execution_count": 147,
   "metadata": {},
   "outputs": [],
   "source": [
    "transformed_df = pipeline_model.transform(test_df)"
   ]
  },
  {
   "cell_type": "code",
   "execution_count": 148,
   "metadata": {},
   "outputs": [
    {
     "name": "stdout",
     "output_type": "stream",
     "text": [
      "+------+-------------------+\n",
      "|price |prediction         |\n",
      "+------+-------------------+\n",
      "|32500 |46340.53537135571  |\n",
      "|38500 |33294.470848597586 |\n",
      "|36000 |-108296.10953399539|\n",
      "|27000 |46938.49000658095  |\n",
      "|38000 |33688.58072565496  |\n",
      "|43500 |12423.84226103872  |\n",
      "|48500 |10385.394679360092 |\n",
      "|32000 |90534.31282070279  |\n",
      "|54750 |47883.78772294521  |\n",
      "|72000 |62290.26080030948  |\n",
      "|70000 |107786.9873457551  |\n",
      "|245500|190714.46528116614 |\n",
      "|156000|92754.1573227942   |\n",
      "|149900|87220.19096574187  |\n",
      "|81500 |-14869.190465845168|\n",
      "|97000 |26146.496539369226 |\n",
      "|80000 |19950.246545143425 |\n",
      "|133000|72362.03997519612  |\n",
      "|99000 |46721.237475045025 |\n",
      "|87500 |61537.363992482424 |\n",
      "+------+-------------------+\n",
      "only showing top 20 rows\n",
      "\n"
     ]
    }
   ],
   "source": [
    "transformed_df.select('price','prediction').show(truncate=False)"
   ]
  },
  {
   "cell_type": "markdown",
   "metadata": {},
   "source": [
    "# Evaluate the model"
   ]
  },
  {
   "cell_type": "code",
   "execution_count": 151,
   "metadata": {},
   "outputs": [],
   "source": [
    "from pyspark.ml.evaluation import RegressionEvaluator"
   ]
  },
  {
   "cell_type": "code",
   "execution_count": 154,
   "metadata": {},
   "outputs": [],
   "source": [
    "evaluator = RegressionEvaluator(labelCol='price')"
   ]
  },
  {
   "cell_type": "code",
   "execution_count": 155,
   "metadata": {},
   "outputs": [
    {
     "data": {
      "text/plain": [
       "44149.88412794071"
      ]
     },
     "execution_count": 155,
     "metadata": {},
     "output_type": "execute_result"
    }
   ],
   "source": [
    "evaluator.evaluate(transformed_df)"
   ]
  },
  {
   "cell_type": "code",
   "execution_count": 156,
   "metadata": {},
   "outputs": [
    {
     "data": {
      "text/plain": [
       "'rmse'"
      ]
     },
     "execution_count": 156,
     "metadata": {},
     "output_type": "execute_result"
    }
   ],
   "source": [
    "evaluator.getMetricName()"
   ]
  },
  {
   "cell_type": "markdown",
   "metadata": {},
   "source": [
    "# Hyperparameter Tuning"
   ]
  },
  {
   "cell_type": "code",
   "execution_count": 158,
   "metadata": {},
   "outputs": [],
   "source": [
    "from pyspark.ml.tuning import CrossValidatorModel, ParamGridBuilder, CrossValidator"
   ]
  },
  {
   "cell_type": "code",
   "execution_count": 160,
   "metadata": {},
   "outputs": [],
   "source": [
    "paramGrid = ParamGridBuilder() \\\n",
    ".addGrid(estimator.regParam, [0.01,0.1,1.0,10.0]) \\\n",
    ".addGrid(estimator.elasticNetParam,[0.0,0.5,1.0]) \\\n",
    ".build()"
   ]
  },
  {
   "cell_type": "code",
   "execution_count": 163,
   "metadata": {},
   "outputs": [],
   "source": [
    "crossval = CrossValidator(estimator=pipeline_obj,\n",
    "                          estimatorParamMaps=paramGrid,\n",
    "                          evaluator=RegressionEvaluator(labelCol='price'),\n",
    "                          numFolds=5) "
   ]
  },
  {
   "cell_type": "code",
   "execution_count": 164,
   "metadata": {},
   "outputs": [],
   "source": [
    "cvModel = crossval.fit(df8)"
   ]
  },
  {
   "cell_type": "code",
   "execution_count": 165,
   "metadata": {},
   "outputs": [
    {
     "data": {
      "text/plain": [
       "pyspark.ml.tuning.CrossValidatorModel"
      ]
     },
     "execution_count": 165,
     "metadata": {},
     "output_type": "execute_result"
    }
   ],
   "source": [
    "type(cvModel)"
   ]
  },
  {
   "cell_type": "code",
   "execution_count": 166,
   "metadata": {},
   "outputs": [
    {
     "data": {
      "text/plain": [
       "[Param(parent='CrossValidatorModel_e98778b93b84', name='estimator', doc='estimator to be cross-validated'),\n",
       " Param(parent='CrossValidatorModel_e98778b93b84', name='estimatorParamMaps', doc='estimator param maps'),\n",
       " Param(parent='CrossValidatorModel_e98778b93b84', name='evaluator', doc='evaluator used to select hyper-parameters that maximize the validator metric'),\n",
       " Param(parent='CrossValidatorModel_e98778b93b84', name='numFolds', doc='number of folds for cross validation'),\n",
       " Param(parent='CrossValidatorModel_e98778b93b84', name='seed', doc='random seed.')]"
      ]
     },
     "execution_count": 166,
     "metadata": {},
     "output_type": "execute_result"
    }
   ],
   "source": [
    "cvModel.params"
   ]
  },
  {
   "cell_type": "code",
   "execution_count": 167,
   "metadata": {},
   "outputs": [],
   "source": [
    "bestModel = cvModel.bestModel"
   ]
  },
  {
   "cell_type": "code",
   "execution_count": 168,
   "metadata": {},
   "outputs": [
    {
     "data": {
      "text/plain": [
       "12617.974378790235"
      ]
     },
     "execution_count": 168,
     "metadata": {},
     "output_type": "execute_result"
    }
   ],
   "source": [
    "evaluator.evaluate(bestModel.transform(df8))"
   ]
  },
  {
   "cell_type": "code",
   "execution_count": 169,
   "metadata": {},
   "outputs": [
    {
     "data": {
      "text/plain": [
       "12617.974378790235"
      ]
     },
     "execution_count": 169,
     "metadata": {},
     "output_type": "execute_result"
    }
   ],
   "source": [
    "evaluator.evaluate(cvModel.transform(df8))"
   ]
  },
  {
   "cell_type": "code",
   "execution_count": 170,
   "metadata": {},
   "outputs": [],
   "source": [
    "bestModel.write().overwrite().save(\"saved_models/arabam_best_model\")"
   ]
  },
  {
   "cell_type": "code",
   "execution_count": null,
   "metadata": {},
   "outputs": [],
   "source": [
    "spark.stop()"
   ]
  },
  {
   "cell_type": "code",
   "execution_count": null,
   "metadata": {},
   "outputs": [],
   "source": []
  },
  {
   "cell_type": "code",
   "execution_count": null,
   "metadata": {},
   "outputs": [],
   "source": []
  },
  {
   "cell_type": "code",
   "execution_count": null,
   "metadata": {},
   "outputs": [],
   "source": []
  },
  {
   "cell_type": "code",
   "execution_count": null,
   "metadata": {},
   "outputs": [],
   "source": []
  },
  {
   "cell_type": "code",
   "execution_count": null,
   "metadata": {},
   "outputs": [],
   "source": []
  },
  {
   "cell_type": "code",
   "execution_count": null,
   "metadata": {},
   "outputs": [],
   "source": []
  },
  {
   "cell_type": "code",
   "execution_count": null,
   "metadata": {},
   "outputs": [],
   "source": []
  },
  {
   "cell_type": "code",
   "execution_count": null,
   "metadata": {},
   "outputs": [],
   "source": []
  },
  {
   "cell_type": "code",
   "execution_count": null,
   "metadata": {},
   "outputs": [],
   "source": []
  },
  {
   "cell_type": "code",
   "execution_count": null,
   "metadata": {},
   "outputs": [],
   "source": []
  },
  {
   "cell_type": "code",
   "execution_count": null,
   "metadata": {},
   "outputs": [],
   "source": []
  },
  {
   "cell_type": "code",
   "execution_count": null,
   "metadata": {},
   "outputs": [],
   "source": []
  },
  {
   "cell_type": "code",
   "execution_count": null,
   "metadata": {},
   "outputs": [],
   "source": []
  },
  {
   "cell_type": "code",
   "execution_count": null,
   "metadata": {},
   "outputs": [],
   "source": []
  },
  {
   "cell_type": "code",
   "execution_count": null,
   "metadata": {},
   "outputs": [],
   "source": []
  },
  {
   "cell_type": "code",
   "execution_count": null,
   "metadata": {},
   "outputs": [],
   "source": []
  },
  {
   "cell_type": "code",
   "execution_count": null,
   "metadata": {},
   "outputs": [],
   "source": []
  }
 ],
 "metadata": {
  "kernelspec": {
   "display_name": "Python 3",
   "language": "python",
   "name": "python3"
  },
  "language_info": {
   "codemirror_mode": {
    "name": "ipython",
    "version": 3
   },
   "file_extension": ".py",
   "mimetype": "text/x-python",
   "name": "python",
   "nbconvert_exporter": "python",
   "pygments_lexer": "ipython3",
   "version": "3.6.8"
  }
 },
 "nbformat": 4,
 "nbformat_minor": 4
}
